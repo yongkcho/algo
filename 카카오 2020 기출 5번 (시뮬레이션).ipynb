{
 "cells": [
  {
   "cell_type": "code",
   "execution_count": 1,
   "metadata": {},
   "outputs": [],
   "source": [
    "def possible(answer):\n",
    "    for x, y, stuff in answer:\n",
    "        if stuff == 0: # 설치된 것이 '기둥'이라면\n",
    "            # '바닥 위' 또는 '보의 한 쪽 끝 부분 위' 또는 '다른 기둥 위'라면 정상\n",
    "            if y == 0 or [x - 1, y, 1] in answer or [x, y, 1] in answer or [x, y, -1, 0] in answer:\n",
    "                continue\n",
    "            return False # 아니라면 False 반환\n",
    "        elif stuff == 1: #설치된 것이 '보'인 경우\n",
    "            if [x, y -1,  0] in answer or [x + 1, y - 1, 0] in answer or ([x - 1, y , 1] in answer and [x + 1, y, 1] in answer):\n",
    "                continue\n",
    "            return False\n",
    "    return True"
   ]
  },
  {
   "cell_type": "code",
   "execution_count": 2,
   "metadata": {},
   "outputs": [],
   "source": [
    "def solution(n, build_frame):\n",
    "    answer = []\n",
    "    for frame in build_frame:\n",
    "        x, y, stuff, operate = frame\n",
    "        if operate == 0: # 삭제하는 경우에는\n",
    "            answer.remove([x, y, stuff]) # 일단 삭제\n",
    "            if not possible(answer): # 가능한 구조물인지 확인\n",
    "                answer.append([x, y, stuff])\n",
    "        if operate == 1: # 설치하는 경우에는 \n",
    "            answer.append([x, y, stuff]) # 일단 추가\n",
    "            if not possible(answer): \n",
    "                answer.remove([x, y, stuff])\n",
    "    return sorted(answer)"
   ]
  },
  {
   "cell_type": "code",
   "execution_count": 3,
   "metadata": {},
   "outputs": [],
   "source": [
    "build_frame = [[1,0,0,1],[1,1,1,1],[2,1,0,1],[2,2,1,1],[5,0,0,1],[5,1,0,1],[4,2,1,1],[3,2,1,1]]"
   ]
  },
  {
   "cell_type": "code",
   "execution_count": 4,
   "metadata": {},
   "outputs": [
    {
     "ename": "TypeError",
     "evalue": "solution() missing 1 required positional argument: 'build_frame'",
     "output_type": "error",
     "traceback": [
      "\u001b[1;31m----------------------------------------------------------------\u001b[0m",
      "\u001b[1;31mTypeError\u001b[0m                      Traceback (most recent call last)",
      "\u001b[1;32m<ipython-input-4-c886a8e51a8a>\u001b[0m in \u001b[0;36m<module>\u001b[1;34m\u001b[0m\n\u001b[1;32m----> 1\u001b[1;33m \u001b[0msolution\u001b[0m\u001b[1;33m(\u001b[0m\u001b[0mbuild_frame\u001b[0m\u001b[1;33m)\u001b[0m\u001b[1;33m\u001b[0m\u001b[1;33m\u001b[0m\u001b[0m\n\u001b[0m",
      "\u001b[1;31mTypeError\u001b[0m: solution() missing 1 required positional argument: 'build_frame'"
     ]
    }
   ],
   "source": [
    "solution(build_frame)"
   ]
  },
  {
   "cell_type": "code",
   "execution_count": null,
   "metadata": {},
   "outputs": [],
   "source": []
  }
 ],
 "metadata": {
  "kernelspec": {
   "display_name": "Python 3",
   "language": "python",
   "name": "python3"
  },
  "language_info": {
   "codemirror_mode": {
    "name": "ipython",
    "version": 3
   },
   "file_extension": ".py",
   "mimetype": "text/x-python",
   "name": "python",
   "nbconvert_exporter": "python",
   "pygments_lexer": "ipython3",
   "version": "3.7.6"
  }
 },
 "nbformat": 4,
 "nbformat_minor": 4
}
