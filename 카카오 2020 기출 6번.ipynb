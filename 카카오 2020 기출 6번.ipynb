{
 "cells": [
  {
   "cell_type": "code",
   "execution_count": 1,
   "metadata": {},
   "outputs": [],
   "source": [
    "from itertools import permutations\n",
    "\n",
    "def solution(n, weak, dist):\n",
    "    length = len(weak)\n",
    "    # 길이를 2배로 늘여서 원형을 선형으로\n",
    "    for i in range(length):\n",
    "        weak.append(weak[i] + n)\n",
    "    answer = len(dist) + 1 # 전체 친구수 + 1로 초기화\n",
    "    \n",
    "    # 0부터 len(weak)-1까지를 시작점으로 설정\n",
    "    for start in range(length):\n",
    "        # 친구를 나열하는 모든 경우의 수를 확인\n",
    "        for friends in list(permutations(dist, len(dist))):\n",
    "            count = 1 # 친구의 수\n",
    "            # 친구가 점검 가능한 마지막 위치\n",
    "            position = weak[start] + friends[count -1]\n",
    "            \n",
    "            # 시작점부터 모든 취약한 점을 확인\n",
    "            for index in range(start, start + length):\n",
    "                # 점검할 수 있는 위치를 벗어나는 경우\n",
    "                if position < weak[index]:\n",
    "                    count += 1 # 친구를 한명 더 투입\n",
    "                    if count > len(dist):# 더 투입이 안되면\n",
    "                        break\n",
    "                    position = weak[index] + friends[count -1]\n",
    "            answer = min(answer, count) # 최소값 계산\n",
    "    if answer > len(dist):\n",
    "        return -1\n",
    "    return answer  "
   ]
  },
  {
   "cell_type": "code",
   "execution_count": 12,
   "metadata": {
    "scrolled": true
   },
   "outputs": [
    {
     "name": "stdout",
     "output_type": "stream",
     "text": [
      "[(1, 2, 3, 4), (1, 2, 4, 3), (1, 3, 2, 4), (1, 3, 4, 2), (1, 4, 2, 3), (1, 4, 3, 2), (2, 1, 3, 4), (2, 1, 4, 3), (2, 3, 1, 4), (2, 3, 4, 1), (2, 4, 1, 3), (2, 4, 3, 1), (3, 1, 2, 4), (3, 1, 4, 2), (3, 2, 1, 4), (3, 2, 4, 1), (3, 4, 1, 2), (3, 4, 2, 1), (4, 1, 2, 3), (4, 1, 3, 2), (4, 2, 1, 3), (4, 2, 3, 1), (4, 3, 1, 2), (4, 3, 2, 1)]\n"
     ]
    }
   ],
   "source": [
    "dist = [1, 2, 3, 4]\n",
    "result = list(permutations(dist, len(dist)))\n",
    "print(result)"
   ]
  },
  {
   "cell_type": "code",
   "execution_count": null,
   "metadata": {},
   "outputs": [],
   "source": []
  }
 ],
 "metadata": {
  "kernelspec": {
   "display_name": "Python 3",
   "language": "python",
   "name": "python3"
  },
  "language_info": {
   "codemirror_mode": {
    "name": "ipython",
    "version": 3
   },
   "file_extension": ".py",
   "mimetype": "text/x-python",
   "name": "python",
   "nbconvert_exporter": "python",
   "pygments_lexer": "ipython3",
   "version": "3.7.6"
  }
 },
 "nbformat": 4,
 "nbformat_minor": 4
}
