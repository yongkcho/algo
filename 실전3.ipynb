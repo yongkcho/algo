{
 "cells": [
  {
   "cell_type": "code",
   "execution_count": 174,
   "metadata": {},
   "outputs": [],
   "source": [
    "k = 3"
   ]
  },
  {
   "cell_type": "code",
   "execution_count": 175,
   "metadata": {},
   "outputs": [],
   "source": [
    "n = 7"
   ]
  },
  {
   "cell_type": "code",
   "execution_count": 190,
   "metadata": {},
   "outputs": [],
   "source": [
    "arrival = [1, 2, 12, 5, 6, 30, 32]"
   ]
  },
  {
   "cell_type": "code",
   "execution_count": 191,
   "metadata": {},
   "outputs": [],
   "source": [
    "load = [15, 10, 10, 10, 10, 15, 10]"
   ]
  },
  {
   "cell_type": "code",
   "execution_count": 256,
   "metadata": {},
   "outputs": [],
   "source": [
    "to_chk =[]\n",
    "for i in range(len(arrival)):\n",
    "    to_chk.append([arrival[i], load[i]])"
   ]
  },
  {
   "cell_type": "code",
   "execution_count": 258,
   "metadata": {},
   "outputs": [],
   "source": [
    "to_chk = sorted(to_chk, key = lambda x: x[0])"
   ]
  },
  {
   "cell_type": "code",
   "execution_count": 259,
   "metadata": {
    "scrolled": true
   },
   "outputs": [
    {
     "data": {
      "text/plain": [
       "[[1, 15], [2, 10], [5, 10], [6, 10], [12, 10], [30, 15], [32, 10]]"
      ]
     },
     "execution_count": 259,
     "metadata": {},
     "output_type": "execute_result"
    }
   ],
   "source": [
    "to_chk #시간대로 다시배열"
   ]
  },
  {
   "cell_type": "code",
   "execution_count": 266,
   "metadata": {},
   "outputs": [
    {
     "data": {
      "text/plain": [
       "32"
      ]
     },
     "execution_count": 266,
     "metadata": {},
     "output_type": "execute_result"
    }
   ],
   "source": [
    "to_chk[i][0]"
   ]
  },
  {
   "cell_type": "code",
   "execution_count": 192,
   "metadata": {},
   "outputs": [],
   "source": [
    "import operator \n",
    "def solution(k, arrival, load):\n",
    "    length = max(arrival) + max(load)\n",
    "    \n",
    "    server_space = [[0] * length] * k # 서버 수만큼 공간 만들기\n",
    "    counter = [0] * k # 서버의 사용횟수를 세기\n",
    "\n",
    "    for i in range(len(arrival)):\n",
    "        load_arr =  [0] * i + [1] * load[i] # load를 1과 0으로 바꿔줌 /시작위치 고려 \n",
    "        if len(load_arr) > len(server_space[0]):\n",
    "            to_minus = len(load_arr) - len(server_space[0])\n",
    "            load_arr = load_arr[0:len(load_arr) - to_minus]\n",
    "        elif len(load_arr) < len(server_space[0]):\n",
    "            load_arr = load_arr + [0] * (len(server_space[0]) - len(load_arr))\n",
    "    \n",
    "        for j in range(len(server_space)):\n",
    "            if server_space[j]to_chk[i][0] == 0:\n",
    "                server_space[j] = list(map(operator.add, server_space[j], load_arr))\n",
    "                counter[j] += 1\n",
    "                break \n",
    "    \n",
    "    answer = max(counter)\n",
    "    return answer"
   ]
  },
  {
   "cell_type": "code",
   "execution_count": 265,
   "metadata": {},
   "outputs": [
    {
     "data": {
      "text/plain": [
       "47"
      ]
     },
     "execution_count": 265,
     "metadata": {},
     "output_type": "execute_result"
    }
   ],
   "source": [
    "len(load_arr)"
   ]
  },
  {
   "cell_type": "code",
   "execution_count": 296,
   "metadata": {},
   "outputs": [
    {
     "data": {
      "text/plain": [
       "[0, 1, 2]"
      ]
     },
     "execution_count": 296,
     "metadata": {},
     "output_type": "execute_result"
    }
   ],
   "source": [
    "server_loc"
   ]
  },
  {
   "cell_type": "code",
   "execution_count": 298,
   "metadata": {},
   "outputs": [],
   "source": [
    "server_loc = list(range(0,k)) * k"
   ]
  },
  {
   "cell_type": "code",
   "execution_count": 299,
   "metadata": {},
   "outputs": [
    {
     "data": {
      "text/plain": [
       "[0, 1, 2, 0, 1, 2, 0, 1, 2]"
      ]
     },
     "execution_count": 299,
     "metadata": {},
     "output_type": "execute_result"
    }
   ],
   "source": [
    "server_loc"
   ]
  },
  {
   "cell_type": "code",
   "execution_count": 322,
   "metadata": {},
   "outputs": [],
   "source": [
    "import operator \n",
    "length = max(arrival) + max(load) # 가장 큰 공간 만들어 놓고 \n",
    "    \n",
    "server_space = [[0] * length] * k # 서버 수만큼 공간 만들기\n",
    "load = [0] * k # 서버의 사용횟수를 세기위해 \n",
    "server_loc = list(range(0,k)) * k\n",
    "\n",
    "for i in range(len(to_chk)):\n",
    "    load_arr =  [0] * to_chk[i][0] + [1] * to_chk[i][1] # load를 1과 0으로 바꿔줌 /시작위치 고려 \n",
    "    if len(load_arr) > len(server_space[0]):\n",
    "        to_minus = len(load_arr) - len(server_space[0])\n",
    "        load_arr = load_arr[0:len(load_arr) - to_minus]\n",
    "    elif len(load_arr) < len(server_space[0]):\n",
    "        load_arr = load_arr + [0] * (len(server_space[0]) - len(load_arr))\n",
    "        \n",
    "    for j in range(len(server_loc[i:i+3])):\n",
    "        if server_space[j][to_chk[i][0]] == 0: #시작 위치가 0이면 \n",
    "            current_server = server_loc[j] # 일단 서버 위치를 다음으로 이동 시킴\n",
    "            server_space[j] = list(map(operator.add, server_space[j], load_arr))\n",
    "            load[j] += to_chk[i][1]\n",
    "            break # 더했으면 그만한다 \n",
    "            \n",
    "    answer = map(str,[i for i, x in enumerate(counter) if x == max(counter)])\n",
    "    answer = ','.join(answer)"
   ]
  },
  {
   "cell_type": "code",
   "execution_count": 321,
   "metadata": {},
   "outputs": [
    {
     "data": {
      "text/plain": [
       "'1'"
      ]
     },
     "execution_count": 321,
     "metadata": {},
     "output_type": "execute_result"
    }
   ],
   "source": []
  },
  {
   "cell_type": "code",
   "execution_count": 307,
   "metadata": {},
   "outputs": [
    {
     "data": {
      "text/plain": [
       "[2, 3, 1]"
      ]
     },
     "execution_count": 307,
     "metadata": {},
     "output_type": "execute_result"
    }
   ],
   "source": [
    "counter"
   ]
  },
  {
   "cell_type": "code",
   "execution_count": 308,
   "metadata": {},
   "outputs": [],
   "source": [
    "server_loc =  [x % k for x in range(len(to_chk))] * k # 서버의 차례 만들기\n"
   ]
  },
  {
   "cell_type": "code",
   "execution_count": 248,
   "metadata": {
    "scrolled": true
   },
   "outputs": [],
   "source": [
    "    length = max(arrival) + max(load)\n",
    "    \n",
    "    server_space = [[0] * length] * k # 서버 수만큼 공간 만들기\n",
    "    counter = [0] * k # 서버의 사용횟수를 세기\n",
    "\n",
    "    for i in range(len(arrival)):\n",
    "        load_arr =  [0] * (arrival[i] - 1) + [1] * load[i] # load를 1과 0으로 바꿔줌 /시작위치 고려 \n",
    "        if len(load_arr) > len(server_space[0]):\n",
    "            to_minus = len(load_arr) - len(server_space[0])\n",
    "            load_arr = load_arr[0:len(load_arr) - to_minus]\n",
    "        elif len(load_arr) < len(server_space[0]):\n",
    "            load_arr = load_arr + [0] * (len(server_space[0]) - len(load_arr))\n",
    "\n",
    "            \n",
    "        for j in range(len(server_space)):\n",
    "            if server_space[j][arrival[i] - 1] == 0:\n",
    "                server_space[j] = list(map(operator.add, server_space[j], load_arr))\n",
    "                counter[j] += 1\n",
    "                break \n",
    "    "
   ]
  },
  {
   "cell_type": "code",
   "execution_count": 245,
   "metadata": {},
   "outputs": [
    {
     "data": {
      "text/plain": [
       "30"
      ]
     },
     "execution_count": 245,
     "metadata": {},
     "output_type": "execute_result"
    }
   ],
   "source": [
    "sum(server_space[0])"
   ]
  },
  {
   "cell_type": "code",
   "execution_count": 246,
   "metadata": {},
   "outputs": [
    {
     "data": {
      "text/plain": [
       "30"
      ]
     },
     "execution_count": 246,
     "metadata": {},
     "output_type": "execute_result"
    }
   ],
   "source": [
    "sum(server_space[1])"
   ]
  },
  {
   "cell_type": "code",
   "execution_count": 247,
   "metadata": {},
   "outputs": [
    {
     "data": {
      "text/plain": [
       "10"
      ]
     },
     "execution_count": 247,
     "metadata": {},
     "output_type": "execute_result"
    }
   ],
   "source": [
    "sum(server_space[2])"
   ]
  },
  {
   "cell_type": "code",
   "execution_count": null,
   "metadata": {},
   "outputs": [],
   "source": [
    "server_space"
   ]
  }
 ],
 "metadata": {
  "kernelspec": {
   "display_name": "Python 3",
   "language": "python",
   "name": "python3"
  },
  "language_info": {
   "codemirror_mode": {
    "name": "ipython",
    "version": 3
   },
   "file_extension": ".py",
   "mimetype": "text/x-python",
   "name": "python",
   "nbconvert_exporter": "python",
   "pygments_lexer": "ipython3",
   "version": "3.7.3"
  }
 },
 "nbformat": 4,
 "nbformat_minor": 2
}
