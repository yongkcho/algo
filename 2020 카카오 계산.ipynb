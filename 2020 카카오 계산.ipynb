{
 "cells": [
  {
   "cell_type": "code",
   "execution_count": 1,
   "metadata": {},
   "outputs": [],
   "source": [
    "expression = \"100-200*300-500+20\""
   ]
  },
  {
   "cell_type": "code",
   "execution_count": 178,
   "metadata": {},
   "outputs": [],
   "source": [
    "expression = \"50*6-3*2\""
   ]
  },
  {
   "cell_type": "code",
   "execution_count": 179,
   "metadata": {
    "scrolled": true
   },
   "outputs": [
    {
     "data": {
      "text/plain": [
       "['50', '6', '3', '2']"
      ]
     },
     "execution_count": 179,
     "metadata": {},
     "output_type": "execute_result"
    }
   ],
   "source": [
    "import re\n",
    "re.findall(\"[^0-9]\", expression)\n",
    "re.findall(\"[0-9]+\", expression)"
   ]
  },
  {
   "cell_type": "code",
   "execution_count": 180,
   "metadata": {},
   "outputs": [
    {
     "data": {
      "text/plain": [
       "['*', '-', '*']"
      ]
     },
     "execution_count": 180,
     "metadata": {},
     "output_type": "execute_result"
    }
   ],
   "source": [
    "re.findall(\"[^0-9]\", expression)"
   ]
  },
  {
   "cell_type": "code",
   "execution_count": 181,
   "metadata": {},
   "outputs": [],
   "source": [
    "cal_list = re.findall(\"[^0-9]\", expression)\n",
    "num_list = re.findall(\"[0-9]+\", expression)\n",
    "num_list = list(map(int, num_list))"
   ]
  },
  {
   "cell_type": "code",
   "execution_count": 182,
   "metadata": {},
   "outputs": [],
   "source": [
    "cals = [[\"-\", \"*\", \"+\"], [\"-\", \"+\", \"*\"], \n",
    "       [\"+\", \"*\", \"-\"], [\"+\", \"-\", \"*\"], \n",
    "       [\"*\", \"-\", \"+\"], [\"*\", \"+\", \"-\"]]"
   ]
  },
  {
   "cell_type": "code",
   "execution_count": 183,
   "metadata": {},
   "outputs": [
    {
     "data": {
      "text/plain": [
       "[50, 6, 3, 2]"
      ]
     },
     "execution_count": 183,
     "metadata": {},
     "output_type": "execute_result"
    }
   ],
   "source": [
    "num_list"
   ]
  },
  {
   "cell_type": "code",
   "execution_count": 190,
   "metadata": {},
   "outputs": [
    {
     "name": "stdout",
     "output_type": "stream",
     "text": [
      "306\n",
      "[300, 0, 6, 0]\n"
     ]
    }
   ],
   "source": [
    "answer = 0\n",
    "for cal in cals:\n",
    "    temp_answer = 0\n",
    "    temp_value = num_list.copy()\n",
    "    for i in range(len(cal)): # 연산기호 우선순위를 반복 cals[0]의 경우 - > * > + 순서\n",
    "        temp = [index for index, value in enumerate(cal_list) if value == cal[i]] # 해당 연산이 붙은 인덱스 반환\n",
    "        for j in range(len(temp)):\n",
    "            if cal[i] == \"-\":\n",
    "                temp_value[temp[j]] = num_list[temp[j]] - num_list[temp[j] + 1]\n",
    "            elif cal[i] == \"+\":\n",
    "                temp_value[temp[j]] = num_list[temp[j]] + num_list[temp[j] + 1]\n",
    "            else:\n",
    "                temp_value[temp[j]] = num_list[temp[j]] * num_list[temp[j] + 1]\n",
    "            temp_value[temp[j] + 1] = 0\n",
    "        temp_answer = sum(temp_value)\n",
    "    if abs(temp_answer) > answer: # 절대값을 비교해서 \n",
    "        answer = temp_answer # 크면 바꾼다 \n",
    "        print(temp_answer)\n",
    "        print(temp_value)"
   ]
  },
  {
   "cell_type": "code",
   "execution_count": 185,
   "metadata": {},
   "outputs": [
    {
     "data": {
      "text/plain": [
       "[300, 3, 0, 0]"
      ]
     },
     "execution_count": 185,
     "metadata": {},
     "output_type": "execute_result"
    }
   ],
   "source": [
    "temp_value"
   ]
  },
  {
   "cell_type": "code",
   "execution_count": 186,
   "metadata": {},
   "outputs": [
    {
     "data": {
      "text/plain": [
       "306"
      ]
     },
     "execution_count": 186,
     "metadata": {},
     "output_type": "execute_result"
    }
   ],
   "source": [
    "answer"
   ]
  },
  {
   "cell_type": "code",
   "execution_count": 191,
   "metadata": {},
   "outputs": [],
   "source": [
    "import itertools\n",
    "\n",
    "def solution(expression):\n",
    "    numbers, operations = [], []\n",
    "    temp_num = ''\n",
    "    for i in range(len(expression)):\n",
    "        if expression[i].isdigit():\n",
    "            temp_num += expression[i]\n",
    "        else:\n",
    "            numbers.append(int(temp_num))\n",
    "            temp_num = ''\n",
    "            operations.append(expression[i])\n",
    "    numbers.append(int(temp_num))\n",
    "    \n",
    "    answer = 0\n",
    "    for order in itertools.permutations(['+', '-', '*']):\n",
    "        temp_answer = numbers.copy()\n",
    "        temp_operations = operations.copy()\n",
    "        for i in range(len(order)):\n",
    "            index = 0\n",
    "            while index < len(temp_operations):\n",
    "                if temp_operations[index] == order[i]:\n",
    "                    if temp_operations[index] == '+':\n",
    "                        temp_answer[index] += temp_answer[index+1]\n",
    "                    elif temp_operations[index] == '-':\n",
    "                        temp_answer[index] -= temp_answer[index+1]\n",
    "                    elif temp_operations[index] == '*':\n",
    "                        temp_answer[index] *= temp_answer[index+1]\n",
    "                    temp_operations.pop(index)\n",
    "                    temp_answer.pop(index+1)\n",
    "                else:\n",
    "                    index += 1\n",
    "        answer = max(answer, abs(temp_answer[0]))\n",
    "    return answer"
   ]
  },
  {
   "cell_type": "code",
   "execution_count": null,
   "metadata": {},
   "outputs": [],
   "source": []
  }
 ],
 "metadata": {
  "kernelspec": {
   "display_name": "Python 3",
   "language": "python",
   "name": "python3"
  },
  "language_info": {
   "codemirror_mode": {
    "name": "ipython",
    "version": 3
   },
   "file_extension": ".py",
   "mimetype": "text/x-python",
   "name": "python",
   "nbconvert_exporter": "python",
   "pygments_lexer": "ipython3",
   "version": "3.7.3"
  }
 },
 "nbformat": 4,
 "nbformat_minor": 2
}
