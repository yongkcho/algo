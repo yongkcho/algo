{
 "cells": [
  {
   "cell_type": "code",
   "execution_count": 1,
   "metadata": {},
   "outputs": [],
   "source": [
    "str1 = \"E=M*C^2\"\n",
    "str2 = \"e=m*c^2\""
   ]
  },
  {
   "cell_type": "code",
   "execution_count": null,
   "metadata": {},
   "outputs": [],
   "source": [
    "str1 = \"handshake\"\n",
    "str2 = \"shake hands\""
   ]
  },
  {
   "cell_type": "code",
   "execution_count": null,
   "metadata": {},
   "outputs": [],
   "source": [
    "str1 = \"aa1+aa2\"\n",
    "str2 = \"AAAA12\""
   ]
  },
  {
   "cell_type": "code",
   "execution_count": 35,
   "metadata": {},
   "outputs": [],
   "source": [
    "import re\n",
    "from collections import Counter"
   ]
  },
  {
   "cell_type": "code",
   "execution_count": 49,
   "metadata": {},
   "outputs": [],
   "source": [
    "def solution(str1, str2):\n",
    "    str1, str2 = str1.lower(), str2.lower()\n",
    "    regex = re.compile('[a-z][a-z]')\n",
    "    \n",
    "    str1_ = regex.findall(\" \".join(str1[i:i+2] for i in range(len(str1))))\n",
    "    str2_ = regex.findall(\" \".join(str2[i:i+2] for i in range(len(str2))))\n",
    "    \n",
    "    if len(str1_) == len(str2_) == 0:\n",
    "        answer = 1 * 65536\n",
    "        return answer\n",
    "    \n",
    "    str1_count, str2_count = Counter(str1_), Counter(str2_)\n",
    "    intersect, union = set(str1_) & set(str2_), set(str1_) | set(str2_)\n",
    "    intersect = sum([min(str1_count[i], str2_count[i]) for i in intersect])\n",
    "    union = sum([max(str1_count[i], str2_count[i]) for i in union])\n",
    "    \n",
    "    return int((intersect/union) * 65536)"
   ]
  },
  {
   "cell_type": "code",
   "execution_count": 50,
   "metadata": {},
   "outputs": [
    {
     "data": {
      "text/plain": [
       "65536"
      ]
     },
     "execution_count": 50,
     "metadata": {},
     "output_type": "execute_result"
    }
   ],
   "source": [
    "solution(str1, str2)"
   ]
  },
  {
   "cell_type": "code",
   "execution_count": 47,
   "metadata": {},
   "outputs": [
    {
     "data": {
      "text/plain": [
       "[]"
      ]
     },
     "execution_count": 47,
     "metadata": {},
     "output_type": "execute_result"
    }
   ],
   "source": [
    "str2_"
   ]
  },
  {
   "cell_type": "code",
   "execution_count": null,
   "metadata": {},
   "outputs": [],
   "source": []
  }
 ],
 "metadata": {
  "kernelspec": {
   "display_name": "Python 3",
   "language": "python",
   "name": "python3"
  },
  "language_info": {
   "codemirror_mode": {
    "name": "ipython",
    "version": 3
   },
   "file_extension": ".py",
   "mimetype": "text/x-python",
   "name": "python",
   "nbconvert_exporter": "python",
   "pygments_lexer": "ipython3",
   "version": "3.7.3"
  }
 },
 "nbformat": 4,
 "nbformat_minor": 2
}
