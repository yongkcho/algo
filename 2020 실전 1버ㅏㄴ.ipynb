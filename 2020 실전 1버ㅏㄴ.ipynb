{
 "cells": [
  {
   "cell_type": "code",
   "execution_count": 1,
   "metadata": {},
   "outputs": [],
   "source": [
    "s = \"BZA\""
   ]
  },
  {
   "cell_type": "code",
   "execution_count": 6,
   "metadata": {},
   "outputs": [],
   "source": [
    "word_list = list(range(0, 26)) * 2 # 알파벳의 리스트를 인덱스로 만들고, 2배를 해서 직선 형태로 변환 (idx A=0, 26 / Z=25, 51)"
   ]
  },
  {
   "cell_type": "code",
   "execution_count": 43,
   "metadata": {},
   "outputs": [],
   "source": [
    "word_list = [[] for _ in range(0, 52)]\n",
    "for i in range(0,26):\n",
    "    word_list[i] = word_list[i + 26] = string.ascii_uppercase[i]"
   ]
  },
  {
   "cell_type": "code",
   "execution_count": 47,
   "metadata": {},
   "outputs": [],
   "source": [
    "idx = [i for i, x in enumerate(word_list) if x == \"B\"]"
   ]
  },
  {
   "cell_type": "code",
   "execution_count": 67,
   "metadata": {},
   "outputs": [
    {
     "data": {
      "text/plain": [
       "'N'"
      ]
     },
     "execution_count": 67,
     "metadata": {},
     "output_type": "execute_result"
    }
   ],
   "source": [
    "word_list[13]"
   ]
  },
  {
   "cell_type": "code",
   "execution_count": 48,
   "metadata": {},
   "outputs": [
    {
     "data": {
      "text/plain": [
       "[1, 27]"
      ]
     },
     "execution_count": 48,
     "metadata": {},
     "output_type": "execute_result"
    }
   ],
   "source": [
    "idx"
   ]
  },
  {
   "cell_type": "code",
   "execution_count": 49,
   "metadata": {},
   "outputs": [],
   "source": [
    "idx = [i for i, x in enumerate(word_list) if x == \"Z\"]"
   ]
  },
  {
   "cell_type": "code",
   "execution_count": 81,
   "metadata": {},
   "outputs": [],
   "source": [
    "s = \"A\" + s"
   ]
  },
  {
   "cell_type": "code",
   "execution_count": 82,
   "metadata": {
    "scrolled": true
   },
   "outputs": [
    {
     "data": {
      "text/plain": [
       "'ABZA'"
      ]
     },
     "execution_count": 82,
     "metadata": {},
     "output_type": "execute_result"
    }
   ],
   "source": [
    "s"
   ]
  },
  {
   "cell_type": "code",
   "execution_count": 83,
   "metadata": {},
   "outputs": [],
   "source": [
    "first_idx = [i for i, x in enumerate(word_list) if x == \"A\"]\n",
    "second_idx = [i for i, x in enumerate(word_list) if x == \"B\"]"
   ]
  },
  {
   "cell_type": "code",
   "execution_count": 84,
   "metadata": {},
   "outputs": [],
   "source": [
    "to_compare = []\n",
    "for i in range(0, 2):\n",
    "    for j in range(0, 2):\n",
    "        to_compare.append(abs(first_idx[i] - second_idx[j]))"
   ]
  },
  {
   "cell_type": "code",
   "execution_count": 85,
   "metadata": {},
   "outputs": [],
   "source": [
    "min_len = min(to_compare)"
   ]
  },
  {
   "cell_type": "code",
   "execution_count": 86,
   "metadata": {},
   "outputs": [
    {
     "data": {
      "text/plain": [
       "1"
      ]
     },
     "execution_count": 86,
     "metadata": {},
     "output_type": "execute_result"
    }
   ],
   "source": [
    "min_len"
   ]
  },
  {
   "cell_type": "code",
   "execution_count": 130,
   "metadata": {},
   "outputs": [],
   "source": [
    "s = \"ZNMD\""
   ]
  },
  {
   "cell_type": "code",
   "execution_count": 131,
   "metadata": {},
   "outputs": [],
   "source": [
    "import string \n",
    "\n",
    "def solution(s):\n",
    "    answer = 0\n",
    "    word_list = [[] for _ in range(0, 52)] # 알파벳을 2번 담을 수 있는 리스트 \n",
    "    for i in range(0,26):\n",
    "        word_list[i] = word_list[i + 26] = string.ascii_uppercase[i] # A-Z를 2번 넣어준다\n",
    "        \n",
    "    s = \"A\" + s # 첫 포인터가 'A'에 있으므로 추가\n",
    "    \n",
    "    for i in range(len(s) - 1):\n",
    "        first_word = s[i]\n",
    "        second_word = s[i + 1]\n",
    "        first_idx = [i for i, x in enumerate(word_list) if x == first_word]\n",
    "        second_idx = [i for i, x in enumerate(word_list) if x == second_word]\n",
    "        to_compare = []\n",
    "        for i in range(0, 2):\n",
    "            for j in range(0, 2):\n",
    "                to_compare.append(abs(first_idx[i] - second_idx[j]))\n",
    "        min_len = min(to_compare)\n",
    "        answer += min_len\n",
    "    return answer"
   ]
  },
  {
   "cell_type": "code",
   "execution_count": 132,
   "metadata": {},
   "outputs": [
    {
     "data": {
      "text/plain": [
       "23"
      ]
     },
     "execution_count": 132,
     "metadata": {},
     "output_type": "execute_result"
    }
   ],
   "source": [
    "solution(s)"
   ]
  },
  {
   "cell_type": "code",
   "execution_count": null,
   "metadata": {},
   "outputs": [],
   "source": []
  }
 ],
 "metadata": {
  "kernelspec": {
   "display_name": "Python 3",
   "language": "python",
   "name": "python3"
  },
  "language_info": {
   "codemirror_mode": {
    "name": "ipython",
    "version": 3
   },
   "file_extension": ".py",
   "mimetype": "text/x-python",
   "name": "python",
   "nbconvert_exporter": "python",
   "pygments_lexer": "ipython3",
   "version": "3.7.3"
  }
 },
 "nbformat": 4,
 "nbformat_minor": 2
}
