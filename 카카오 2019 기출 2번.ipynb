{
 "cells": [
  {
   "cell_type": "code",
   "execution_count": 108,
   "metadata": {},
   "outputs": [],
   "source": [
    "N  = 4\n",
    "stages = [4,4,4,4,4]\t"
   ]
  },
  {
   "cell_type": "code",
   "execution_count": 122,
   "metadata": {},
   "outputs": [],
   "source": [
    "N = 5\n",
    "stages = [2, 1, 2, 6, 2, 4, 3, 3]"
   ]
  },
  {
   "cell_type": "code",
   "execution_count": 123,
   "metadata": {},
   "outputs": [],
   "source": [
    "import operator\n",
    "def solution(N, stages):\n",
    "    length = len(stages)\n",
    "    stages_to_list = [\"\" for _ in range(length)]\n",
    "    remain_stage = dict(zip(list(range(N + 1)), [0 for _ in range(N + 1)])) # 남은 스테이지를 카운트하기 위해 딕셔너리\n",
    "\n",
    "    for i in range(length): # 전체 스테이지 수를 확인하기 위해 range 사용\n",
    "        stages_to_list[i] = list(range(stages[i]))\n",
    "        for j in range(len(stages_to_list[i])):\n",
    "            remain_stage[stages_to_list[i][j]] += 1  # 딕셔너리의 각 값에 내용 할당\n",
    "\n",
    "    for i in range(len(remain_stage) - 1): # 마지막 스테이지는 필요없으니 제거\n",
    "        if remain_stage[i] == 0:\n",
    "            remain_stage[i] = 0\n",
    "        else:\n",
    "            remain_stage[i] = (remain_stage[i] - remain_stage[i+1]) / remain_stage[i]\n",
    "    del remain_stage[len(remain_stage) -1] # 마지막 스테이지는 필요없으니 계산 후 제거\n",
    "\n",
    "    remain_stage = sorted(remain_stage.items(), key = operator.itemgetter(1), reverse = True)\n",
    "    \n",
    "    answer = []\n",
    "    for i in range(len(remain_stage)):\n",
    "        answer.append(remain_stage[i][0] + 1)\n",
    "    print(answer)"
   ]
  },
  {
   "cell_type": "code",
   "execution_count": 124,
   "metadata": {},
   "outputs": [
    {
     "name": "stdout",
     "output_type": "stream",
     "text": [
      "[3, 4, 2, 1, 5]\n"
     ]
    }
   ],
   "source": [
    "solution(N, stages)"
   ]
  }
 ],
 "metadata": {
  "kernelspec": {
   "display_name": "Python 3",
   "language": "python",
   "name": "python3"
  },
  "language_info": {
   "codemirror_mode": {
    "name": "ipython",
    "version": 3
   },
   "file_extension": ".py",
   "mimetype": "text/x-python",
   "name": "python",
   "nbconvert_exporter": "python",
   "pygments_lexer": "ipython3",
   "version": "3.7.3"
  }
 },
 "nbformat": 4,
 "nbformat_minor": 2
}
