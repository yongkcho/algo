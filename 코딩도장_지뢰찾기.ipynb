{
 "cells": [
  {
   "cell_type": "code",
   "execution_count": 42,
   "metadata": {
    "scrolled": true
   },
   "outputs": [
    {
     "name": "stdout",
     "output_type": "stream",
     "text": [
      "5 5\n",
      "..*..\n",
      "...*.\n",
      ".*...\n",
      ".***.\n",
      "*.*..\n",
      "[[0, 1, '*', 2, 1], [1, 2, 3, '*', 1], [2, '*', 5, 3, 2], [3, '*', '*', '*', 1], ['*', 4, '*', 3, 1]]\n"
     ]
    }
   ],
   "source": [
    "col, row = map(int, input().split())\n",
    "matrix = []\n",
    "for i in range(row):\n",
    "    matrix.append(list(input()))\n",
    "for i in range(row): \n",
    "    matrix[i].insert(0, '.')\n",
    "    matrix[i].append('.')\n",
    "matrix.insert(0,['.' for i in range(row + 2)])\n",
    "matrix.append(['.' for i in range(row + 2)])\n",
    "for i in range(row):\n",
    "    for j in range(col):\n",
    "        if matrix[i + 1][j + 1] != \"*\": # 지뢰가 아니면\n",
    "            count = matrix[i][j:j+3] + matrix[i + 1][j:j+3] + matrix[i + 2][j:j+3]\n",
    "            count = count.count('*')\n",
    "            matrix[i + 1][j + 1] = count \n",
    "matrix.pop(0)\n",
    "matrix.pop(row)\n",
    "for i in range(row):\n",
    "    matrix[i].pop()\n",
    "    matrix[i].pop(0)\n",
    "print(matrix)"
   ]
  },
  {
   "cell_type": "code",
   "execution_count": 34,
   "metadata": {},
   "outputs": [],
   "source": [
    "matrix[4] = ['.', '*', 4, '*', 3, 1, '.']"
   ]
  },
  {
   "cell_type": "code",
   "execution_count": 35,
   "metadata": {
    "scrolled": true
   },
   "outputs": [
    {
     "data": {
      "text/plain": [
       "'.'"
      ]
     },
     "execution_count": 35,
     "metadata": {},
     "output_type": "execute_result"
    }
   ],
   "source": [
    "matrix[4].pop()"
   ]
  },
  {
   "cell_type": "code",
   "execution_count": 36,
   "metadata": {},
   "outputs": [
    {
     "data": {
      "text/plain": [
       "'.'"
      ]
     },
     "execution_count": 36,
     "metadata": {},
     "output_type": "execute_result"
    }
   ],
   "source": [
    "matrix[4].pop(0)"
   ]
  },
  {
   "cell_type": "code",
   "execution_count": 38,
   "metadata": {},
   "outputs": [
    {
     "data": {
      "text/plain": [
       "['*', 4, '*', 3, 1]"
      ]
     },
     "execution_count": 38,
     "metadata": {},
     "output_type": "execute_result"
    }
   ],
   "source": [
    "matrix[4]"
   ]
  },
  {
   "cell_type": "code",
   "execution_count": 39,
   "metadata": {},
   "outputs": [
    {
     "data": {
      "text/plain": [
       "[[0, 1, '*', 2, 1],\n",
       " [1, 2, 3, '*', 1],\n",
       " [2, '*', 5, 3, 2],\n",
       " [3, '*', '*', '*', 1],\n",
       " ['*', 4, '*', 3, 1]]"
      ]
     },
     "execution_count": 39,
     "metadata": {},
     "output_type": "execute_result"
    }
   ],
   "source": [
    "matrix"
   ]
  },
  {
   "cell_type": "code",
   "execution_count": 3,
   "metadata": {},
   "outputs": [],
   "source": [
    "col, row = 5, 5"
   ]
  },
  {
   "cell_type": "code",
   "execution_count": 4,
   "metadata": {},
   "outputs": [
    {
     "name": "stdout",
     "output_type": "stream",
     "text": [
      "..*..\n",
      "...*.\n",
      ".*...\n",
      ".***.\n",
      "*.*..\n"
     ]
    }
   ],
   "source": [
    "matrix = []\n",
    "for i in range(row):\n",
    "    matrix.append(list(input()))"
   ]
  },
  {
   "cell_type": "code",
   "execution_count": 5,
   "metadata": {},
   "outputs": [
    {
     "data": {
      "text/plain": [
       "[['.', '.', '*', '.', '.'],\n",
       " ['.', '.', '.', '*', '.'],\n",
       " ['.', '*', '.', '.', '.'],\n",
       " ['.', '*', '*', '*', '.'],\n",
       " ['*', '.', '*', '.', '.']]"
      ]
     },
     "execution_count": 5,
     "metadata": {},
     "output_type": "execute_result"
    }
   ],
   "source": [
    "matrix"
   ]
  },
  {
   "cell_type": "code",
   "execution_count": 6,
   "metadata": {},
   "outputs": [],
   "source": [
    "for i in range(row): \n",
    "    matrix[i].insert(0, '.')\n",
    "    matrix[i].append('.')"
   ]
  },
  {
   "cell_type": "code",
   "execution_count": 7,
   "metadata": {},
   "outputs": [
    {
     "data": {
      "text/plain": [
       "[['.', '.', '.', '*', '.', '.', '.'],\n",
       " ['.', '.', '.', '.', '*', '.', '.'],\n",
       " ['.', '.', '*', '.', '.', '.', '.'],\n",
       " ['.', '.', '*', '*', '*', '.', '.'],\n",
       " ['.', '*', '.', '*', '.', '.', '.']]"
      ]
     },
     "execution_count": 7,
     "metadata": {},
     "output_type": "execute_result"
    }
   ],
   "source": [
    "matrix"
   ]
  },
  {
   "cell_type": "code",
   "execution_count": 8,
   "metadata": {},
   "outputs": [],
   "source": [
    "matrix.insert(0,['.' for i in range(row + 2)])\n",
    "matrix.append(['.' for i in range(row + 2)])"
   ]
  },
  {
   "cell_type": "code",
   "execution_count": 9,
   "metadata": {
    "scrolled": true
   },
   "outputs": [
    {
     "data": {
      "text/plain": [
       "[['.', '.', '.', '.', '.', '.', '.'],\n",
       " ['.', '.', '.', '*', '.', '.', '.'],\n",
       " ['.', '.', '.', '.', '*', '.', '.'],\n",
       " ['.', '.', '*', '.', '.', '.', '.'],\n",
       " ['.', '.', '*', '*', '*', '.', '.'],\n",
       " ['.', '*', '.', '*', '.', '.', '.'],\n",
       " ['.', '.', '.', '.', '.', '.', '.']]"
      ]
     },
     "execution_count": 9,
     "metadata": {},
     "output_type": "execute_result"
    }
   ],
   "source": [
    "matrix"
   ]
  },
  {
   "cell_type": "code",
   "execution_count": 16,
   "metadata": {},
   "outputs": [
    {
     "ename": "IndexError",
     "evalue": "list index out of range",
     "output_type": "error",
     "traceback": [
      "\u001b[1;31m---------------------------------------------------------------------------\u001b[0m",
      "\u001b[1;31mIndexError\u001b[0m                                Traceback (most recent call last)",
      "\u001b[1;32m<ipython-input-16-3a5c4c92dfe7>\u001b[0m in \u001b[0;36m<module>\u001b[1;34m\u001b[0m\n\u001b[1;32m----> 1\u001b[1;33m \u001b[0mmatrix\u001b[0m\u001b[1;33m[\u001b[0m\u001b[1;36m7\u001b[0m\u001b[1;33m]\u001b[0m\u001b[1;33m\u001b[0m\u001b[1;33m\u001b[0m\u001b[0m\n\u001b[0m",
      "\u001b[1;31mIndexError\u001b[0m: list index out of range"
     ]
    }
   ],
   "source": [
    "matrix[7]"
   ]
  },
  {
   "cell_type": "code",
   "execution_count": 18,
   "metadata": {
    "scrolled": false
   },
   "outputs": [],
   "source": [
    "for i in range(row):\n",
    "    for j in range(col):\n",
    "        if matrix[i + 1][j + 1] != \"*\": # 지뢰가 아니면\n",
    "            count = matrix[i][j:j+3] + matrix[i + 1][j:j+3] + matrix[i + 2][j:j+3]\n",
    "            count = count.count('*')\n",
    "            matrix[i + 1][j + 1] = count "
   ]
  },
  {
   "cell_type": "code",
   "execution_count": 19,
   "metadata": {},
   "outputs": [
    {
     "data": {
      "text/plain": [
       "[['.', '.', '.', '.', '.', '.', '.'],\n",
       " ['.', 0, 1, '*', 2, 1, '.'],\n",
       " ['.', 1, 2, 3, '*', 1, '.'],\n",
       " ['.', 2, '*', 5, 3, 2, '.'],\n",
       " ['.', 3, '*', '*', '*', 1, '.'],\n",
       " ['.', '*', 4, '*', 3, 1, '.'],\n",
       " ['.', '.', '.', '.', '.', '.', '.']]"
      ]
     },
     "execution_count": 19,
     "metadata": {},
     "output_type": "execute_result"
    }
   ],
   "source": [
    "matrix"
   ]
  },
  {
   "cell_type": "code",
   "execution_count": 20,
   "metadata": {},
   "outputs": [
    {
     "data": {
      "text/plain": [
       "['.', '.', '.', '.', '.', '.', '.']"
      ]
     },
     "execution_count": 20,
     "metadata": {},
     "output_type": "execute_result"
    }
   ],
   "source": [
    "matrix.pop(0)\n"
   ]
  },
  {
   "cell_type": "code",
   "execution_count": 21,
   "metadata": {},
   "outputs": [
    {
     "data": {
      "text/plain": [
       "['.', '.', '.', '.', '.', '.', '.']"
      ]
     },
     "execution_count": 21,
     "metadata": {},
     "output_type": "execute_result"
    }
   ],
   "source": [
    "matrix.pop(row)\n"
   ]
  },
  {
   "cell_type": "code",
   "execution_count": 22,
   "metadata": {},
   "outputs": [],
   "source": [
    "for i in range(row):\n",
    "    matrix[i].pop()\n",
    "    matrix[i].pop(0)"
   ]
  },
  {
   "cell_type": "code",
   "execution_count": 23,
   "metadata": {},
   "outputs": [
    {
     "data": {
      "text/plain": [
       "[[0, 1, '*', 2, 1],\n",
       " [1, 2, 3, '*', 1],\n",
       " [2, '*', 5, 3, 2],\n",
       " [3, '*', '*', '*', 1],\n",
       " ['*', 4, '*', 3, 1]]"
      ]
     },
     "execution_count": 23,
     "metadata": {},
     "output_type": "execute_result"
    }
   ],
   "source": [
    "matrix"
   ]
  },
  {
   "cell_type": "code",
   "execution_count": null,
   "metadata": {},
   "outputs": [],
   "source": []
  }
 ],
 "metadata": {
  "kernelspec": {
   "display_name": "Python 3",
   "language": "python",
   "name": "python3"
  },
  "language_info": {
   "codemirror_mode": {
    "name": "ipython",
    "version": 3
   },
   "file_extension": ".py",
   "mimetype": "text/x-python",
   "name": "python",
   "nbconvert_exporter": "python",
   "pygments_lexer": "ipython3",
   "version": "3.7.6"
  }
 },
 "nbformat": 4,
 "nbformat_minor": 4
}
