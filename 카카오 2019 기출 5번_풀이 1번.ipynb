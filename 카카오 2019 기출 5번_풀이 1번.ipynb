{
 "cells": [
  {
   "cell_type": "code",
   "execution_count": 1,
   "metadata": {},
   "outputs": [],
   "source": [
    "# https://jeongchul.tistory.com/656?category=582040\n",
    "nodeinfo = [[5,3],[11,5],[13,3],[3,5],[6,1],[1,3],[8,6],[7,2],[2,2]]\t"
   ]
  },
  {
   "cell_type": "code",
   "execution_count": 146,
   "metadata": {
    "scrolled": true
   },
   "outputs": [],
   "source": [
    "import sys\n",
    "sys.setrecursionlimit(10 ** 6)"
   ]
  },
  {
   "cell_type": "code",
   "execution_count": 155,
   "metadata": {},
   "outputs": [],
   "source": [
    "# 이진 트리를 Node Class로 구현\n",
    "class Node:\n",
    "    def __init__(self, x, id, left_bound, right_bound):\n",
    "        self.x = x # 자신의 x좌표를 바탕으로 자식 노드가 참조\n",
    "        self.id = id #인덱스\n",
    "        self.left_bound = left_bound #왼쪽 boundary ~ 자식노드 판별용\n",
    "        self.right_bound = right_bound # 오른쪽 boundary ~ 자식도느 판별용\n",
    "        self.left_node = None\n",
    "        self.right_node = None\n",
    "        \n",
    "preorder_result = []\n",
    "postorder_result = []\n",
    "\n",
    "# 전위 순회 (Value -> L -> R)를 재귀함수로 구현 \n",
    "def preorder(node):\n",
    "    preorder_result.append(node.id)\n",
    "    if node.left_node is not None:\n",
    "        preorder(node.left_node)\n",
    "    if node.right_node is not None:\n",
    "        preorder(node.right_node)\n",
    "                 \n",
    "# 후위 순회(L-> R -> Vlaue)를 재귀함수로 구현\n",
    "def postorder(node):\n",
    "    if node.left_node is not None:\n",
    "        postorder(node.left_node)\n",
    "    if node.right_node is not None:\n",
    "        postorder(node.right_node)\n",
    "    postorder_result.append(node.id)\n",
    "    \n",
    "# 메인 메서드\n",
    "def solution(nodeinfo):\n",
    "    answer = [[]]\n",
    "    # 이진트리 구성\n",
    "    # L,R를 나타내는 x축과 level을 나타내는 y축이 존재함\n",
    "    # 효율성 고려를 위해 x축 제한 가능\n",
    "    # 먼저 (x, y, index)로 변경해야 함\n",
    "    nodeinfo = [value + [idx + 1] for idx, value in enumerate(nodeinfo)] # enumerate를 사용해 몇 번째인지 반환\n",
    "    \n",
    "    # y축 레벨을 기준으로 정렬 (내림차순)\n",
    "    nodeinfo = sorted(nodeinfo, key = lambda x:x[1], reverse = True)\n",
    "    level_array = [] # 같은 y에 있는 여러 list에 여러 x 좌표가 들어가게 바꾼다\n",
    "\n",
    "    \n",
    "    now = -1\n",
    "    for item in nodeinfo:\n",
    "        y = item[1]\n",
    "        if y != now: # 현재와 같은 레벨인가?\n",
    "            level_array.append([]) #아니면 새로운 층으로 추가한다.\n",
    "            now = y\n",
    "        level_array[len(level_array) - 1].append((item[0], item[2])) #추가된 층에 x값, 인덱스 추가\n",
    "        \n",
    "    #같은 층에 있는 x를 기준으로 오름차순 정렬\n",
    "    for i in range(len(level_array)):\n",
    "        level_array[i] = sorted(level_array[i])\n",
    "        \n",
    "    #root 노드를 넣는다\n",
    "    root = Node(level_array[0][0][0], level_array[0][0][1], 0 , 100000)\n",
    "    \n",
    "    # 부모 노드를 관리하는 리스트\n",
    "    parent_node_list = [[]]\n",
    "    parent_node_list[0].append(root)\n",
    "    \n",
    "    # 다음 level부터 살펴보면서 왼쪽/오른쪽 자식노드를 확인하고 입력한다.\n",
    "    for level in range(1, len(level_array)):\n",
    "        parent_node_list.append([])\n",
    "        for data in level_array[level]:\n",
    "            x = data[0]\n",
    "            value = data[1]\n",
    "            \n",
    "            # 바로 위 level을 참조\n",
    "            for parent_node in parent_node_list[level -1]:\n",
    "                # x 좌표가 left_bound보다 크고, 부모 노드보다 작은 위치라면 left node\n",
    "                if parent_node.left_bound <= x and parent_node.x > x:\n",
    "                    now_node = Node(x, value, parent_node.left_bound, parent_node.x)\n",
    "                    parent_node.left_node = now_node\n",
    "                    parent_node_list[level].append(now_node)\n",
    "                    break\n",
    "                # x 좌표가 right_bound보다 작고, 부모 노드보다 큰 위치라면 right node\n",
    "                elif parent_node.right_bound >= x and parent_node.x < x:\n",
    "                    now_node = Node(x, value, parent_node.x, parent_node.right_bound)\n",
    "                    parent_node_list[level].append(now_node)\n",
    "                    break\n",
    "    preorder(root)\n",
    "    postorder(root)\n",
    "    return [preorder_result, postorder_result]"
   ]
  },
  {
   "cell_type": "code",
   "execution_count": 156,
   "metadata": {},
   "outputs": [
    {
     "data": {
      "text/plain": [
       "[[7, 4, 6], [6, 4, 7]]"
      ]
     },
     "execution_count": 156,
     "metadata": {},
     "output_type": "execute_result"
    }
   ],
   "source": [
    "solution(nodeinfo)"
   ]
  },
  {
   "cell_type": "code",
   "execution_count": null,
   "metadata": {},
   "outputs": [],
   "source": []
  }
 ],
 "metadata": {
  "kernelspec": {
   "display_name": "Python 3",
   "language": "python",
   "name": "python3"
  },
  "language_info": {
   "codemirror_mode": {
    "name": "ipython",
    "version": 3
   },
   "file_extension": ".py",
   "mimetype": "text/x-python",
   "name": "python",
   "nbconvert_exporter": "python",
   "pygments_lexer": "ipython3",
   "version": "3.7.3"
  }
 },
 "nbformat": 4,
 "nbformat_minor": 2
}
