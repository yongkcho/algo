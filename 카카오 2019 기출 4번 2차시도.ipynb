{
 "cells": [
  {
   "cell_type": "code",
   "execution_count": 123,
   "metadata": {},
   "outputs": [],
   "source": [
    "# https://geonlee.tistory.com/67?category=313022코드 참고 \n",
    "# https://jeongchul.tistory.com/655 해설 참고 \n",
    "food_times = [3, 1, 2]\t\n",
    "k = 5\n",
    "result = 1"
   ]
  },
  {
   "cell_type": "code",
   "execution_count": 124,
   "metadata": {},
   "outputs": [],
   "source": [
    "def solution(food_times, k):\n",
    "    sorted_time = sorted(food_times)\n",
    "    length_time = len(food_times)\n",
    "    duration_time = 0\n",
    "    last_idx = 0\n",
    "    \n",
    "    for idx in range(length_time):\n",
    "        if idx == 0:\n",
    "            duration_time += sorted_time[idx] * (length_time - idx)\n",
    "        else:\n",
    "            duration_time += (sorted_time[idx] - sorted_time[idx - 1]) * (length_time - idx)\n",
    "        if duration_time > k: # k를 넘어서면\n",
    "            last_idx = idx - 1 # last index에 idx - 1을 저장 (마지막으로 먹은 음식의 인덱스)\n",
    "            break\n",
    "            \n",
    "    if duration_time <= k:\n",
    "        return -1 \n",
    "    \n",
    "    lst = [] # 마지막에 먹는 음식을 저장하는 리스트  \n",
    "    for idx in range(last_idx - 1, -1, -1): # 리스트를 역순으로 배열한다 \n",
    "        if food_times[idx] > sorted_time[idx]: # 이게 이해가 안간다  \n",
    "            lst.append(idx + 1)\n",
    "            \n",
    "        if len(lst) != 0:\n",
    "            # 초과한 양만큼 뒤에서 순서를 세서 음식을 구합니다.\n",
    "            return lst[(duration_time - k - 1) % len(lst)] \n",
    "        else: # 0으로 나누는 경우 len(lst) == 0\n",
    "            return k % length_time + 1 # 목표 시간에 대해 나머지 연산 "
   ]
  },
  {
   "cell_type": "code",
   "execution_count": 125,
   "metadata": {},
   "outputs": [
    {
     "data": {
      "text/plain": [
       "1"
      ]
     },
     "execution_count": 125,
     "metadata": {},
     "output_type": "execute_result"
    }
   ],
   "source": [
    "solution(food_times, k)"
   ]
  }
 ],
 "metadata": {
  "kernelspec": {
   "display_name": "Python 3",
   "language": "python",
   "name": "python3"
  },
  "language_info": {
   "codemirror_mode": {
    "name": "ipython",
    "version": 3
   },
   "file_extension": ".py",
   "mimetype": "text/x-python",
   "name": "python",
   "nbconvert_exporter": "python",
   "pygments_lexer": "ipython3",
   "version": "3.7.3"
  }
 },
 "nbformat": 4,
 "nbformat_minor": 2
}
