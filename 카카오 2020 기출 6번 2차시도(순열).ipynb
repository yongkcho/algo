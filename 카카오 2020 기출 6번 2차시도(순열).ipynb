{
 "cells": [
  {
   "cell_type": "code",
   "execution_count": 2,
   "metadata": {},
   "outputs": [],
   "source": [
    "n = 12\n",
    "weak = [1, 5, 6, 10]\n",
    "dist = [1, 2, 3, 4]"
   ]
  },
  {
   "cell_type": "code",
   "execution_count": 3,
   "metadata": {},
   "outputs": [],
   "source": [
    "# 2. weak point간의 거리를 계산\n",
    "\n",
    "weak_dist =[[0] * (len(weak) -1) for _ in range(len(weak))]\n",
    "for i in range(len(weak)):\n",
    "    temp_list = weak.copy()\n",
    "    ego = temp_list.pop(i)\n",
    "    alter = temp_list\n",
    "\n",
    "    for j in range(len(alter)):\n",
    "        if ego > alter[j]: # ego의 값이 큰 경우\n",
    "            weak_dist[i][j] = min(ego - alter[j], n - ego + alter[j])\n",
    "        else: # ego의 값이 작은 경우\n",
    "            weak_dist[i][j] = min(alter[j] - ego, n - alter[j] + ego)"
   ]
  },
  {
   "cell_type": "code",
   "execution_count": 4,
   "metadata": {},
   "outputs": [],
   "source": [
    "def is_possible(weak_dist):\n",
    "    false_count = 0\n",
    "    dist.sort(reverse = True) # dist를 내림차순으로 정렬\n",
    "    for i in range(len(weak_dist)): # 행 이동\n",
    "        for j in range(len(weak_dist[0])): # 열 이동\n",
    "            if weak_dist[i][j] > dist[0]: # 만약 거리가 최대값을 넘으면\n",
    "                weak_dist[i][j] = False \n",
    "                false_count += 1\n",
    "    if false_count == len(weak_dist) * len(weak_dist[0]): # 모든게 불가능하면\n",
    "        return -1 \n",
    "    return weak_dist, false_count"
   ]
  },
  {
   "cell_type": "code",
   "execution_count": 5,
   "metadata": {
    "scrolled": true
   },
   "outputs": [
    {
     "data": {
      "text/plain": [
       "[[4, False, 3], [4, 1, False], [False, 1, 4], [3, False, 4]]"
      ]
     },
     "execution_count": 5,
     "metadata": {},
     "output_type": "execute_result"
    }
   ],
   "source": [
    "is_possible(weak_dist)\n",
    "weak_dist"
   ]
  },
  {
   "cell_type": "code",
   "execution_count": 6,
   "metadata": {},
   "outputs": [],
   "source": [
    "def solution(n, weak, dist):\n",
    "    answer = 0\n",
    "    return answer"
   ]
  },
  {
   "cell_type": "code",
   "execution_count": 74,
   "metadata": {},
   "outputs": [],
   "source": [
    "# 다른 어프로치\n",
    "weak_dist =[[0] * (len(weak) -1) for _ in range(len(weak))]\n",
    "dist.sort(reverse = True) # dist를 내림차순으로 정렬\n",
    "frend_route = []\n",
    "\n",
    "for i in range(len(weak)):\n",
    "    temp_list = weak.copy()\n",
    "    ego = temp_list.pop(i)\n",
    "    alter = temp_list\n",
    "\n",
    "    for j in range(len(alter)):\n",
    "        if ego > alter[j]: # ego의 값이 큰 경우\n",
    "            if ego - alter[j] <= n - ego + alter[j]: # 반시계방향 탐색보다 시계 방향 탐색이 유리한 경우\n",
    "                weak_dist[i][j] = ego - alter[j]\n",
    "                if weak_dist[i][j] <= dist[0]: # 처\n",
    "                    temp_list = list(range(alter[j], ego + 1))\n",
    "            else: # 반시계방향 탐색이 유리한 경우 \n",
    "                weak_dist[i][j] = n - ego + alter[j]\n",
    "                if weak_dist[i][j] <= dist[0]:\n",
    "                    temp_list = list(range(ego + 1, alter[j] + n + 1))\n",
    "        else: # ego의 값이 작은 경우\n",
    "            if alter[j] - ego <= n - alter[j] + ego: # 반시계방향 탐색보다 시계 방향 탐색이 유리한 경우\n",
    "                weak_dist[i][j] = alter[j] - ego\n",
    "                if weak_dist[i][j] <= dist[0]: # 처\n",
    "                    temp_list = list(range(ego, alter[j] + 1))\n",
    "            else: # 반시계방향 탐색이 유리한 경우 \n",
    "                weak_dist[i][j] = n - alter[j] + ego\n",
    "                if weak_dist[i][j] <= dist[0]:\n",
    "                    temp_list = list(range(alter[j], ego + n + 1))\n",
    "        for k in range(len(temp_list)):\n",
    "            if temp_list[k] >= n:\n",
    "                temp_list[k] = temp_list[k] - n\n",
    "        frend_route.append([[ego], [alter[j]], len(temp_list) - 1 ,temp_list])\n",
    "                \n",
    "#alter[j] - ego, n - alter[j] + ego    "
   ]
  },
  {
   "cell_type": "code",
   "execution_count": 77,
   "metadata": {},
   "outputs": [
    {
     "data": {
      "text/plain": [
       "[[[1], [5], 4, [1, 2, 3, 4, 5]],\n",
       " [[1], [6], 4, [1, 2, 3, 4, 5]],\n",
       " [[1], [10], 3, [10, 11, 0, 1]],\n",
       " [[5], [1], 4, [1, 2, 3, 4, 5]],\n",
       " [[5], [6], 1, [5, 6]],\n",
       " [[5], [10], 1, [5, 6]],\n",
       " [[6], [1], 2, [1, 5, 10]],\n",
       " [[6], [5], 1, [5, 6]],\n",
       " [[6], [10], 4, [6, 7, 8, 9, 10]],\n",
       " [[10], [1], 2, [11, 0, 1]],\n",
       " [[10], [5], 2, [11, 0, 1]],\n",
       " [[10], [6], 4, [6, 7, 8, 9, 10]]]"
      ]
     },
     "execution_count": 77,
     "metadata": {},
     "output_type": "execute_result"
    }
   ],
   "source": [
    "frend_route"
   ]
  },
  {
   "cell_type": "code",
   "execution_count": 60,
   "metadata": {},
   "outputs": [
    {
     "data": {
      "text/plain": [
       "[1, 2, 3, 4, 5]"
      ]
     },
     "execution_count": 60,
     "metadata": {},
     "output_type": "execute_result"
    }
   ],
   "source": [
    "for route in frend_route:\n",
    "    if route[2] <= dist:\n",
    "        "
   ]
  }
 ],
 "metadata": {
  "kernelspec": {
   "display_name": "Python 3",
   "language": "python",
   "name": "python3"
  },
  "language_info": {
   "codemirror_mode": {
    "name": "ipython",
    "version": 3
   },
   "file_extension": ".py",
   "mimetype": "text/x-python",
   "name": "python",
   "nbconvert_exporter": "python",
   "pygments_lexer": "ipython3",
   "version": "3.7.6"
  }
 },
 "nbformat": 4,
 "nbformat_minor": 4
}
