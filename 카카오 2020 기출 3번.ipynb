{
 "cells": [
  {
   "cell_type": "code",
   "execution_count": 455,
   "metadata": {},
   "outputs": [],
   "source": [
    "key = [[0, 0, 0], [1, 0, 0], [0, 1, 1]]\n",
    "lock = [[1, 1, 1], [1, 1, 0], [1, 0, 1]]"
   ]
  },
  {
   "cell_type": "code",
   "execution_count": 456,
   "metadata": {},
   "outputs": [],
   "source": [
    "import copy"
   ]
  },
  {
   "cell_type": "code",
   "execution_count": 457,
   "metadata": {},
   "outputs": [],
   "source": [
    "def is_correct(test, key):\n",
    "    for i in range(len(key) - 1): # 원상복귀~ 위, 아래 추가열 삭제\n",
    "        test.pop()\n",
    "        test.pop(0)   \n",
    "    for i in range(len(test)): # 원상복귀 ~ 앞/뒤 추가행 삭제 \n",
    "        for j in range(len(key) - 1):\n",
    "            test[i].pop()\n",
    "            test[i].pop(0)      \n",
    "            \n",
    "    # lock이 전부 0이 되었는지 확인 \n",
    "    for i in range(len(test)):\n",
    "        for j in range(len(test)):\n",
    "            if test[i][j] != 1: #하나라도 1이 아니면\n",
    "                return False\n",
    "    return True          "
   ]
  },
  {
   "cell_type": "code",
   "execution_count": 464,
   "metadata": {},
   "outputs": [],
   "source": [
    "test = [[1, 1, 1], [1, 1, 1], [1, 1, 1]]"
   ]
  },
  {
   "cell_type": "code",
   "execution_count": 466,
   "metadata": {},
   "outputs": [
    {
     "name": "stdout",
     "output_type": "stream",
     "text": [
      "true\n"
     ]
    }
   ],
   "source": [
    "    for i in range(len(test)):\n",
    "        for j in range(len(test)):\n",
    "            if test[i][j] != 1: #하나라도 1이 아니면\n",
    "                print('false')\n",
    "    print('true')"
   ]
  },
  {
   "cell_type": "code",
   "execution_count": 460,
   "metadata": {},
   "outputs": [],
   "source": [
    "def solution(lock, key) :\n",
    "    find_num = len(lock) + 1\n",
    "    # lock을 key 크기를 사용해 확장시킵니다\n",
    "    for i in range(len(lock)): \n",
    "        for j in range(len(key) - 1):\n",
    "            lock[i].insert(0, 0)\n",
    "            lock[i].append(0)\n",
    "    for i in range(int((len(lock[i]) - len(lock))/2)):\n",
    "        lock.insert(0,[0 for i in range(len(lock[1]))])\n",
    "        lock.append([0 for i in range(len(lock[1]))])\n",
    "    \n",
    "    for keys in range(4):\n",
    "    # key를 이동해가며 탐색 ㄱㄱ\n",
    "    # 지옥의 5중 for문....\n",
    "        key_rotate = []\n",
    "        # 키를 90도 돌리는 for문\n",
    "        for r in range(0, len(key)):\n",
    "            for t in range(1,len(key)+1):\n",
    "                key_rotate.append(key[(len(key)- t)][r])\n",
    "                for col in range(find_num):\n",
    "                    for row in range(find_num):\n",
    "                        for i in range(len(key)):\n",
    "                            for j in range(len(key)):\n",
    "                                test = copy.deepcopy(lock)\n",
    "                                test[i][j] = lock[i + col][j + row] + key[i][j]\n",
    "                                if(is_correct(test, key)):\n",
    "                                    return True \n",
    "                                    break\n",
    "        return False"
   ]
  },
  {
   "cell_type": "code",
   "execution_count": 461,
   "metadata": {
    "scrolled": true
   },
   "outputs": [
    {
     "data": {
      "text/plain": [
       "False"
      ]
     },
     "execution_count": 461,
     "metadata": {},
     "output_type": "execute_result"
    }
   ],
   "source": [
    "solution(lock, key)"
   ]
  },
  {
   "cell_type": "code",
   "execution_count": 52,
   "metadata": {
    "scrolled": false
   },
   "outputs": [
    {
     "data": {
      "text/plain": [
       "[0, 1, 0, 1, 0, 0, 1, 0, 0]"
      ]
     },
     "execution_count": 52,
     "metadata": {},
     "output_type": "execute_result"
    }
   ],
   "source": [
    "def rotate_key(key, degree):\n",
    "    for i in range(0, len(key)):\n",
    "        for j in range(1,len(key)+1):\n",
    "            key_rotate.append(key[(len(key)- j)][i])"
   ]
  }
 ],
 "metadata": {
  "kernelspec": {
   "display_name": "Python 3",
   "language": "python",
   "name": "python3"
  },
  "language_info": {
   "codemirror_mode": {
    "name": "ipython",
    "version": 3
   },
   "file_extension": ".py",
   "mimetype": "text/x-python",
   "name": "python",
   "nbconvert_exporter": "python",
   "pygments_lexer": "ipython3",
   "version": "3.7.6"
  }
 },
 "nbformat": 4,
 "nbformat_minor": 4
}
