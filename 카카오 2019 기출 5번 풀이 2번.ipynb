{
 "cells": [
  {
   "cell_type": "code",
   "execution_count": 2,
   "metadata": {},
   "outputs": [],
   "source": [
    "nodeinfo = [[5,3],[11,5],[13,3],[3,5],[6,1],[1,3],[8,6],[7,2],[2,2]]\t"
   ]
  },
  {
   "cell_type": "code",
   "execution_count": 1,
   "metadata": {},
   "outputs": [],
   "source": [
    "import sys\n",
    "sys.setrecursionlimit(10**6)\n",
    "\n",
    "class Tree:\n",
    "    def __init__(self, data_list): # 자신의 좌표, 왼쪽 자식 노드/ 오른쪽 자식 노드 \n",
    "        self.data = max(data_list, key = lambda x: x[1]) # y값이 max인걸 찾아서 자신의 좌표로 넣어준다\n",
    "        left_list = list(filter(lambda x:x[0] < self.data[0], data_list)) # x 좌표가 left_bound 이하인걸 left_list에\n",
    "        right_list = list(filter(lambda x:x[0] > self.data[0], data_list)) # x 좌표가 right_bound 이상인걸 right_list에 넣는다\n",
    "        \n",
    "        if left_list != []:\n",
    "            self.left = Tree(left_list) # 재귀함수\n",
    "        else:\n",
    "            self.left = None\n",
    "        \n",
    "        if right_list != []:\n",
    "            self.right = Tree(right_list) # 재귀함수 \n",
    "        else:\n",
    "            self.right = None\n",
    "        \n",
    "def fix(node, post_list, pre_list):\n",
    "    post_list.append(node.data)\n",
    "    if node.left is not None:\n",
    "        fix(node.left, post_list, pre_list)\n",
    "    if node.right is not None:\n",
    "        fix(node.right, post_list, pre_list)\n",
    "    pre_list.append(node.data)\n",
    "        \n",
    "def solution(nodeinfo):\n",
    "    answer = []\n",
    "    root = Tree(nodeinfo)\n",
    "    post_list = []\n",
    "    pre_list = []\n",
    "    fix(root, post_list, pre_list)\n",
    "    \n",
    "    answer.append(list(map(lambda x: nodeinfo.index(x) + 1, post_list)))\n",
    "    answer.append(list(map(lambda x: nodeinfo.index(x) + 1, pre_list)))\n",
    "    return answer"
   ]
  },
  {
   "cell_type": "code",
   "execution_count": 3,
   "metadata": {},
   "outputs": [
    {
     "data": {
      "text/plain": [
       "[[7, 4, 6, 9, 1, 8, 5, 2, 3], [9, 6, 5, 8, 1, 4, 3, 2, 7]]"
      ]
     },
     "execution_count": 3,
     "metadata": {},
     "output_type": "execute_result"
    }
   ],
   "source": [
    "solution(nodeinfo)"
   ]
  }
 ],
 "metadata": {
  "kernelspec": {
   "display_name": "Python 3",
   "language": "python",
   "name": "python3"
  },
  "language_info": {
   "codemirror_mode": {
    "name": "ipython",
    "version": 3
   },
   "file_extension": ".py",
   "mimetype": "text/x-python",
   "name": "python",
   "nbconvert_exporter": "python",
   "pygments_lexer": "ipython3",
   "version": "3.7.3"
  }
 },
 "nbformat": 4,
 "nbformat_minor": 2
}
