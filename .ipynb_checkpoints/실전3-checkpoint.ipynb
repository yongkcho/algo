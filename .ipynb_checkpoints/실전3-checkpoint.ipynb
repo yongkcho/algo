{
 "cells": [
  {
   "cell_type": "code",
   "execution_count": 167,
   "metadata": {},
   "outputs": [],
   "source": [
    "k = 3"
   ]
  },
  {
   "cell_type": "code",
   "execution_count": 168,
   "metadata": {},
   "outputs": [],
   "source": [
    "n = 7"
   ]
  },
  {
   "cell_type": "code",
   "execution_count": 169,
   "metadata": {},
   "outputs": [],
   "source": [
    "arrival = [1, 2, 12, 4, 6, 30, 32]"
   ]
  },
  {
   "cell_type": "code",
   "execution_count": 170,
   "metadata": {},
   "outputs": [],
   "source": [
    "load = [7, 15, 10, 10, 10, 15, 10]"
   ]
  },
  {
   "cell_type": "code",
   "execution_count": 153,
   "metadata": {},
   "outputs": [],
   "source": [
    "server_space = [[0] * n] * k# 서버 수만큼 공간 만들기\n",
    "counter = [0] * k"
   ]
  },
  {
   "cell_type": "code",
   "execution_count": 163,
   "metadata": {},
   "outputs": [],
   "source": [
    "import operator \n",
    "def solution(k, arrival, load):\n",
    "    length = len(arrival)\n",
    "    \n",
    "    server_space = [[0] * length] * k# 서버 수만큼 공간 만들기\n",
    "    counter = [0] * k # 서버의 사용횟수를 세기\n",
    "\n",
    "    for i in range(len(arrival)):\n",
    "        load_arr =  [0] * i + [1] * load[i] # load를 1과 0으로 바꿔줌 /시작위치 고려 \n",
    "        if len(load_arr) > len(server_space[0]):\n",
    "            to_minus = len(load_arr) - len(server_space[0])\n",
    "            load_arr = load_arr[0:len(load_arr) - to_minus]\n",
    "        elif len(load_arr) < len(server_space[0]):\n",
    "            load_arr = load_arr + [0] * (len(server_space[0]) - len(load_arr))\n",
    "    \n",
    "        for j in range(len(server_space)):\n",
    "            if server_space[j][i] == 0:\n",
    "                server_space[j] = list(map(operator.add, server_space[j], load_arr))\n",
    "                counter[j] += 1\n",
    "                break           \n",
    "    answer = max(counter)\n",
    "    return answer"
   ]
  },
  {
   "cell_type": "code",
   "execution_count": 166,
   "metadata": {},
   "outputs": [
    {
     "data": {
      "text/plain": [
       "2"
      ]
     },
     "execution_count": 166,
     "metadata": {},
     "output_type": "execute_result"
    }
   ],
   "source": [
    "solution(k, arrival, load)"
   ]
  },
  {
   "cell_type": "code",
   "execution_count": null,
   "metadata": {},
   "outputs": [],
   "source": []
  }
 ],
 "metadata": {
  "kernelspec": {
   "display_name": "Python 3",
   "language": "python",
   "name": "python3"
  },
  "language_info": {
   "codemirror_mode": {
    "name": "ipython",
    "version": 3
   },
   "file_extension": ".py",
   "mimetype": "text/x-python",
   "name": "python",
   "nbconvert_exporter": "python",
   "pygments_lexer": "ipython3",
   "version": "3.7.3"
  }
 },
 "nbformat": 4,
 "nbformat_minor": 2
}
