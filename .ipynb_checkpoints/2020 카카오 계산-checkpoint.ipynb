{
 "cells": [
  {
   "cell_type": "code",
   "execution_count": 1,
   "metadata": {},
   "outputs": [],
   "source": [
    "expression = \"100-200*300-500+20\""
   ]
  },
  {
   "cell_type": "code",
   "execution_count": 11,
   "metadata": {
    "scrolled": true
   },
   "outputs": [
    {
     "data": {
      "text/plain": [
       "['100', '200', '300', '500', '20']"
      ]
     },
     "execution_count": 11,
     "metadata": {},
     "output_type": "execute_result"
    }
   ],
   "source": [
    "import re\n",
    "re.findall(\"[^0-9]\", expression)\n",
    "re.findall(\"[0-9]+\", expression)"
   ]
  },
  {
   "cell_type": "code",
   "execution_count": 57,
   "metadata": {},
   "outputs": [],
   "source": [
    "cal_list = re.findall(\"[^0-9]\", expression)\n",
    "num_list = re.findall(\"[0-9]+\", expression)"
   ]
  },
  {
   "cell_type": "code",
   "execution_count": 9,
   "metadata": {},
   "outputs": [],
   "source": [
    "cals = [[\"-\", \"*\", \"+\"], [\"-\", \"+\", \"*\"], \n",
    "       [\"+\", \"*\", \"-\"], [\"+\", \"-\", \"*\"], \n",
    "       [\"*\", \"-\", \"+\"], [\"*\", \"+\", \"-\"]]"
   ]
  },
  {
   "cell_type": "code",
   "execution_count": 80,
   "metadata": {},
   "outputs": [],
   "source": [
    "answer = 0\n",
    "for cal in cals:\n",
    "    temp_answer = 0\n",
    "    for i in range(len(cal)): # 연산기호 우선순위를 반복 cals[0]의 경우 - > * > + 순서\n",
    "        temp = [index for index, value in enumerate(cal_list) if value == cal[i]] # 해당 연산이 붙은 인덱스 반환\n",
    "        for j in range(len(temp)):\n",
    "            if cal[i] == \"-\":\n",
    "                temp_answer += int(num_list[temp[j]]) - int(num_list[temp[j] + 1])\n",
    "            elif cal[i] == \"+\":\n",
    "                temp_answer += int(num_list[temp[j]]) + int(num_list[temp[j] + 1])\n",
    "            else:\n",
    "                temp_answer += int(num_list[temp[j]]) * int(num_list[temp[j] + 1])\n",
    "    if abs(temp_answer) > answer: # 절대값을 비교해서 \n",
    "         answer = temp_answer # 크면 바꾼다 "
   ]
  },
  {
   "cell_type": "code",
   "execution_count": 81,
   "metadata": {},
   "outputs": [
    {
     "data": {
      "text/plain": [
       "60220"
      ]
     },
     "execution_count": 81,
     "metadata": {},
     "output_type": "execute_result"
    }
   ],
   "source": [
    "temp_answer"
   ]
  },
  {
   "cell_type": "code",
   "execution_count": 58,
   "metadata": {},
   "outputs": [],
   "source": [
    "cal = [\"-\", \"*\", \"+\"]"
   ]
  },
  {
   "cell_type": "code",
   "execution_count": 78,
   "metadata": {},
   "outputs": [],
   "source": [
    "    for i in range(len(cal)): # 연산기호 우선순위를 반복 cals[0]의 경우 - > * > + 순서\n",
    "        temp = [index for index, value in enumerate(cal_list) if value == cal[i]] # 해당 연산이 붙은 인덱스 반환\n",
    "        for j in range(len(temp)):\n",
    "            if cal[i] == \"-\":\n",
    "                temp_answer += int(num_list[temp[j]]) - int(num_list[temp[j] + 1])\n",
    "            elif cal[i] == \"+\":\n",
    "                temp_answer += int(num_list[temp[j]]) + int(num_list[temp[j] + 1])\n",
    "            else:\n",
    "                temp_answer += int(num_list[temp[j]]) * int(num_list[temp[j] + 1])"
   ]
  },
  {
   "cell_type": "code",
   "execution_count": 79,
   "metadata": {},
   "outputs": [
    {
     "data": {
      "text/plain": [
       "59820"
      ]
     },
     "execution_count": 79,
     "metadata": {},
     "output_type": "execute_result"
    }
   ],
   "source": [
    "temp_answer"
   ]
  },
  {
   "cell_type": "code",
   "execution_count": 68,
   "metadata": {},
   "outputs": [],
   "source": [
    "temp = [index for index, value in enumerate(cal_list) if value == cal[0]]"
   ]
  },
  {
   "cell_type": "code",
   "execution_count": 69,
   "metadata": {},
   "outputs": [
    {
     "data": {
      "text/plain": [
       "[0, 2]"
      ]
     },
     "execution_count": 69,
     "metadata": {},
     "output_type": "execute_result"
    }
   ],
   "source": [
    "temp"
   ]
  },
  {
   "cell_type": "code",
   "execution_count": 76,
   "metadata": {},
   "outputs": [
    {
     "data": {
      "text/plain": [
       "2"
      ]
     },
     "execution_count": 76,
     "metadata": {},
     "output_type": "execute_result"
    }
   ],
   "source": [
    "temp[j]"
   ]
  },
  {
   "cell_type": "code",
   "execution_count": 70,
   "metadata": {},
   "outputs": [
    {
     "data": {
      "text/plain": [
       "300"
      ]
     },
     "execution_count": 70,
     "metadata": {},
     "output_type": "execute_result"
    }
   ],
   "source": [
    "int(num_list[temp[j]])"
   ]
  },
  {
   "cell_type": "code",
   "execution_count": 77,
   "metadata": {},
   "outputs": [
    {
     "data": {
      "text/plain": [
       "500"
      ]
     },
     "execution_count": 77,
     "metadata": {},
     "output_type": "execute_result"
    }
   ],
   "source": [
    "int(num_list[temp[j] + 1])"
   ]
  },
  {
   "cell_type": "code",
   "execution_count": 74,
   "metadata": {},
   "outputs": [
    {
     "data": {
      "text/plain": [
       "['100', '200', '300', '500', '20']"
      ]
     },
     "execution_count": 74,
     "metadata": {},
     "output_type": "execute_result"
    }
   ],
   "source": [
    "num_list"
   ]
  },
  {
   "cell_type": "code",
   "execution_count": null,
   "metadata": {},
   "outputs": [],
   "source": []
  }
 ],
 "metadata": {
  "kernelspec": {
   "display_name": "Python 3",
   "language": "python",
   "name": "python3"
  },
  "language_info": {
   "codemirror_mode": {
    "name": "ipython",
    "version": 3
   },
   "file_extension": ".py",
   "mimetype": "text/x-python",
   "name": "python",
   "nbconvert_exporter": "python",
   "pygments_lexer": "ipython3",
   "version": "3.7.3"
  }
 },
 "nbformat": 4,
 "nbformat_minor": 2
}
