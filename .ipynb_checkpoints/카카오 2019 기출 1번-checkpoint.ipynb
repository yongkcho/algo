{
 "cells": [
  {
   "cell_type": "code",
   "execution_count": 98,
   "metadata": {},
   "outputs": [],
   "source": [
    "record = [\"Enter uid1234 Muzi\", \"Enter uid4567 Prodo\",\"Leave uid1234\",\"Enter uid1234 Prodo\",\"Change uid4567 Ryan\"]"
   ]
  },
  {
   "cell_type": "code",
   "execution_count": 102,
   "metadata": {},
   "outputs": [],
   "source": [
    "def solution(record):\n",
    "    length = len(record)\n",
    "    status = []\n",
    "    user_id = []\n",
    "    nick_name = []\n",
    "\n",
    "    for i in range(length):\n",
    "        # 데이터를 역순으로 불러와 띄어쓰기로 구분\n",
    "        temp = record[length - 1 - i].split(\" \")\n",
    "        status.append(temp[0])\n",
    "        user_id.append(temp[1])\n",
    "        if len(temp) == 3:\n",
    "            nick_name.append(temp[2])\n",
    "        else:\n",
    "            nick_name.append(\"\")\n",
    "\n",
    "    # 가장 마지막에 등장한 user_id와 nick_name의 매치를 구한다\n",
    "    chk_list = []\n",
    "    index_num = []\n",
    "    for i in range(len(user_id)):\n",
    "        if user_id[i] not in chk_list:\n",
    "            chk_list.append(user_id[i])\n",
    "            index_num.append(i)\n",
    "        \n",
    "    last_id = []\n",
    "    for i in range(length):\n",
    "        if i in index_num: # 첫 인덱스번호에 있는 데이터를 만나면 \n",
    "            last_id.append([user_id[i], nick_name[i]]) # user_id와 nick_name 쌍을 저장\n",
    "        else:\n",
    "            for j in range(len(last_id)):\n",
    "                if user_id[i] == last_id[j][0]:\n",
    "                    nick_name[i] = last_id[j][1]\n",
    "\n",
    "    answer = []\n",
    "    # 메시지 출력\n",
    "    for i in range(length):\n",
    "        if status[i] == \"Change\":\n",
    "            continue\n",
    "        else: \n",
    "            status[i] = print_message(status[i])\n",
    "        temp = nick_name[i] + status[i]\n",
    "        answer.append(\"\".join(temp))\n",
    "    \n",
    "    answer = print(list(reversed(answer)))\n",
    "    return answer"
   ]
  },
  {
   "cell_type": "code",
   "execution_count": 103,
   "metadata": {},
   "outputs": [],
   "source": [
    "def print_message(raw_text):\n",
    "    if raw_text == \"Enter\":\n",
    "        raw_text = \"님이 들어왔습니다.\"\n",
    "    elif raw_text == \"Leave\":\n",
    "        raw_text = \"님이 나갔습니다.\"\n",
    "    return raw_text"
   ]
  },
  {
   "cell_type": "code",
   "execution_count": 104,
   "metadata": {},
   "outputs": [
    {
     "name": "stdout",
     "output_type": "stream",
     "text": [
      "['Prodo님이 들어왔습니다.', 'Ryan님이 들어왔습니다.', 'Prodo님이 나갔습니다.', 'Prodo님이 들어왔습니다.']\n"
     ]
    }
   ],
   "source": [
    "solution(record)"
   ]
  }
 ],
 "metadata": {
  "kernelspec": {
   "display_name": "Python 3",
   "language": "python",
   "name": "python3"
  },
  "language_info": {
   "codemirror_mode": {
    "name": "ipython",
    "version": 3
   },
   "file_extension": ".py",
   "mimetype": "text/x-python",
   "name": "python",
   "nbconvert_exporter": "python",
   "pygments_lexer": "ipython3",
   "version": "3.7.3"
  }
 },
 "nbformat": 4,
 "nbformat_minor": 4
}
