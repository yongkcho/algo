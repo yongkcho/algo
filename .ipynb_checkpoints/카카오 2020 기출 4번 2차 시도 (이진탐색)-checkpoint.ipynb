{
 "cells": [
  {
   "cell_type": "code",
   "execution_count": 31,
   "metadata": {},
   "outputs": [],
   "source": [
    "from bisect import bisect_left, bisect_right\n",
    "\n",
    "# 값이 [left value, right value]인 데이터의 개수를 반환하는 함수 \n",
    "def count_by_range(a, left_value, right_value):\n",
    "    right_index = bisect_right(a, right_value)\n",
    "    left_index = bisect_left(a, left_value)\n",
    "    return right_index - left_index"
   ]
  },
  {
   "cell_type": "code",
   "execution_count": 32,
   "metadata": {},
   "outputs": [],
   "source": [
    "# 모든 단어를 길이마다 나눠서 저장하기 위한 리스트\n",
    "data = [[] for _ in range(10001)]\n",
    "# 모든 단어들을 길이마다 나누고, 역순으로 저장하기 위한 리스트 \n",
    "reversed_data = [[] for _ in range(10001)]"
   ]
  },
  {
   "cell_type": "code",
   "execution_count": 33,
   "metadata": {},
   "outputs": [],
   "source": [
    "def solution(words, queires):\n",
    "    answer = []\n",
    "    for word in words:\n",
    "        data[len(word)].append(word)\n",
    "        reversed_data[len(word)].append(word[::-1])\n",
    "        \n",
    "    for i in range(10001):\n",
    "        data[i].sort()\n",
    "        reversed_data[i].sort()\n",
    "        \n",
    "    for query in queries:\n",
    "        if query[0] != '?':\n",
    "            res = count_by_range(data[len(query)], query.replace('?', 'a'), query.replace('?','z'))\n",
    "        else:\n",
    "            res = count_by_range(reversed_data[len(query)], query[::-1].replace('?', 'a'), query[::-1].replace('?', 'z'))\n",
    "        answer.append(res)\n",
    "    return answer    "
   ]
  },
  {
   "cell_type": "code",
   "execution_count": 34,
   "metadata": {},
   "outputs": [],
   "source": [
    "words = [\"frodo\", \"front\", \"frost\", \"frozen\", \"frame\", \"kakao\"]\n",
    "queires = [\"fro??\", \"????o\", \"fr???\", \"fro???\", \"pro?\"]"
   ]
  },
  {
   "cell_type": "code",
   "execution_count": 35,
   "metadata": {},
   "outputs": [
    {
     "data": {
      "text/plain": [
       "[3, 2, 4, 1, 0]"
      ]
     },
     "execution_count": 35,
     "metadata": {},
     "output_type": "execute_result"
    }
   ],
   "source": [
    "solution(words, queires)"
   ]
  },
  {
   "cell_type": "code",
   "execution_count": null,
   "metadata": {},
   "outputs": [],
   "source": []
  }
 ],
 "metadata": {
  "kernelspec": {
   "display_name": "Python 3",
   "language": "python",
   "name": "python3"
  },
  "language_info": {
   "codemirror_mode": {
    "name": "ipython",
    "version": 3
   },
   "file_extension": ".py",
   "mimetype": "text/x-python",
   "name": "python",
   "nbconvert_exporter": "python",
   "pygments_lexer": "ipython3",
   "version": "3.7.3"
  }
 },
 "nbformat": 4,
 "nbformat_minor": 4
}
