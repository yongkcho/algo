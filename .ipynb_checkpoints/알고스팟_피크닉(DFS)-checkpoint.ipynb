{
 "cells": [
  {
   "cell_type": "code",
   "execution_count": null,
   "metadata": {},
   "outputs": [],
   "source": [
    "case_num = int(input())\n",
    "\n",
    "for _ in range(case_num):\n",
    "    day_num, team_num = map(int, input().split()) \n",
    "    cost = [0] + list(map(int, input().split())) \n",
    "    \n",
    "    avg_cost = []\n",
    "    sum_arr = [0]\n",
    "    \n",
    "    for i in range(1, day_num + 1):\n",
    "        sum_arr.append(sum_arr[i-1] + cost[i]) \n",
    "    for i in range(team_num, day_num + 1): \n",
    "        for j in range(0, day_num - i + 1): \n",
    "            temp = (sum_arr[j + i] - sum_arr[j]) /i\n",
    "            avg_cost.append(temp)   \n",
    "    min_avg = min(avg_cost)\n",
    "    \n",
    "    print('{0:.10f}'.format(min_avg)) \n"
   ]
  },
  {
   "cell_type": "code",
   "execution_count": 2,
   "metadata": {},
   "outputs": [
    {
     "name": "stdout",
     "output_type": "stream",
     "text": [
      "3 1\n"
     ]
    }
   ],
   "source": [
    "n, m = map(int, input().split())"
   ]
  },
  {
   "cell_type": "code",
   "execution_count": 45,
   "metadata": {
    "scrolled": true
   },
   "outputs": [
    {
     "name": "stdout",
     "output_type": "stream",
     "text": [
      "0 1 0 2 1 2 1 3 1 4 2 3 2 4 3 4 3 5 4 5\n"
     ]
    }
   ],
   "source": [
    "pair = list(map(int, input().split()))"
   ]
  },
  {
   "cell_type": "code",
   "execution_count": 3,
   "metadata": {},
   "outputs": [],
   "source": [
    "def DFS(startI, remainingFriend):\n",
    "    if not remainingFriend:\n",
    "        return 1\n",
    " \n",
    "    possibleCase = 0\n",
    " \n",
    "    for i in range(startI, n):\n",
    "        if not visit[i]:\n",
    "            for j in range(i + 1, n):\n",
    "                if not visit[j] and isFriend[i][j]:\n",
    "                    visit[i] = visit[j] = True\n",
    "                    possibleCase += DFS(i, remainingFriend - 2)\n",
    "                    visit[i] = visit[j] = False\n",
    "    \n",
    "    return possibleCase"
   ]
  },
  {
   "cell_type": "code",
   "execution_count": 136,
   "metadata": {},
   "outputs": [],
   "source": [
    "def DFS(start, remain):\n",
    "    if not remain:\n",
    "        return 1\n",
    "    \n",
    "    possibleCase = 0\n",
    "    \n",
    "    for i in range(start, n): # 학생 수 만큼 반복\n",
    "        if not relation[i]: # relation[i]가 false이면\n",
    "            for j in range(i + 1, n): # 다음 학생 넘버부터 마지막까지\n",
    "                if not relation[j] and isFriend[i][j]: # relation이 아직 없지만, 둘이 친구라면 \n",
    "                    relation[i] = relation[j] = True # i, j에 True 입력\n",
    "                    possibleCase += DFS(i, remain - 2) # 전체에서 2명분삭제 후 재귀함수로 DFS 재호출\n",
    "                    relation[i] = relation[j] = False # 탐색 종료 후 false로 초기화해 재 적용 막음\n",
    "    \n",
    "    return possibleCase"
   ]
  },
  {
   "cell_type": "code",
   "execution_count": 135,
   "metadata": {},
   "outputs": [
    {
     "name": "stdout",
     "output_type": "stream",
     "text": [
      "1\n",
      "6 10\n",
      "0 1 0 2 1 2 1 3 1 4 2 3 2 4 3 4 3 5 4 5\n",
      "294\n"
     ]
    }
   ],
   "source": [
    "C = int(input())\n",
    " \n",
    "for _ in range(C):\n",
    "    n, m = map(int, input().split())\n",
    "    relation = [False] * n # 학생 수만큼 빈 리스트를 만든다\n",
    "    isFriend = [[False] * n for _ in range(n)] # 위의 리스트를 학생 수 만큼 만든다\n",
    "    friendsList = list(map(int, input().split()))\n",
    " \n",
    "    for i in range(0, len(friendsList), 2):\n",
    "        isFriend[friendsList[i]][friendsList[i + 1]] = True # from -> to의 경우 True\n",
    "        isFriend[friendsList[i + 1]][friendsList[i]] = True # to -> from의 경우 True\n",
    " \n",
    "    print(DFS(0, n))"
   ]
  },
  {
   "cell_type": "code",
   "execution_count": 143,
   "metadata": {},
   "outputs": [],
   "source": [
    "def DFS(start, remain): #Depth First Search\n",
    "    if not remain:\n",
    "        return 1\n",
    "    possibleCase = 0\n",
    "    \n",
    "    for i in range(start, n):\n",
    "        if not relation[i]:\n",
    "            for j in range(i + 1, n):\n",
    "                if not relation[j] and isFriend[i][j]:\n",
    "                    relation[i] = relation[j] = True\n",
    "                    possibleCase += DFS(i, remain -2)\n",
    "                    relation[i] = relation[j] = False\n",
    "    return possibleCase"
   ]
  },
  {
   "cell_type": "code",
   "execution_count": 144,
   "metadata": {},
   "outputs": [
    {
     "name": "stdout",
     "output_type": "stream",
     "text": [
      "1\n",
      "6 10\n",
      "0 1 0 2 1 2 1 3 1 4 2 3 2 4 3 4 3 5 4 5\n",
      "4\n"
     ]
    }
   ],
   "source": [
    "case_num = int(input())\n",
    "\n",
    "for _ in range(case_num):\n",
    "    n, m = map(int, input().split())\n",
    "    relation = [False] * n\n",
    "    isFriend = [[False] * n for _ in range(n)]\n",
    "    friendsList = list(map(int, input().split()))\n",
    "    \n",
    "    for i in range(0, len(friendsList), 2):\n",
    "        isFriend[friendsList[i]][friendsList[i + 1]] = True\n",
    "        isFriend[friendsList[i +1]][friendsList[i]] = True\n",
    "    print(DFS(0, n))"
   ]
  }
 ],
 "metadata": {
  "kernelspec": {
   "display_name": "Python 3",
   "language": "python",
   "name": "python3"
  },
  "language_info": {
   "codemirror_mode": {
    "name": "ipython",
    "version": 3
   },
   "file_extension": ".py",
   "mimetype": "text/x-python",
   "name": "python",
   "nbconvert_exporter": "python",
   "pygments_lexer": "ipython3",
   "version": "3.7.3"
  }
 },
 "nbformat": 4,
 "nbformat_minor": 4
}
