{
 "cells": [
  {
   "cell_type": "code",
   "execution_count": 1,
   "metadata": {},
   "outputs": [],
   "source": [
    "# https://yangjun-ux.github.io/2020/04/21/kakao_openchat/ 님의 글 참고함 \n",
    "record = [\"Enter uid1234 Muzi\", \"Enter uid4567 Prodo\",\"Leave uid1234\",\"Enter uid1234 Prodo\",\"Change uid4567 Ryan\"]"
   ]
  },
  {
   "cell_type": "code",
   "execution_count": 8,
   "metadata": {},
   "outputs": [],
   "source": [
    "def solution(record):\n",
    "    record_split = []\n",
    "    for data in record:\n",
    "        data = data.split(\" \")\n",
    "        record_split.append(data)\n",
    "        \n",
    "    dict_id_name = {}\n",
    "    for data in record_split:\n",
    "        if data[0] != \"Leave\":\n",
    "            dict_id_name[data[1]] = data[2] # user_id 와 nick_name의 딕셔너리를 만들어준다\n",
    "    \n",
    "    answer = []\n",
    "    for data in record_split:\n",
    "        if data[0] == \"Enter\":\n",
    "            answer.append(dict_id_name[data[1]] + \"님이 들어왔습니다.\")\n",
    "        elif data[0] == \"Leave\":\n",
    "            answer.append(dict_id_name[data[1]] + \"님이 나갔습니다.\")\n",
    "    return answer"
   ]
  }
 ],
 "metadata": {
  "kernelspec": {
   "display_name": "Python 3",
   "language": "python",
   "name": "python3"
  },
  "language_info": {
   "codemirror_mode": {
    "name": "ipython",
    "version": 3
   },
   "file_extension": ".py",
   "mimetype": "text/x-python",
   "name": "python",
   "nbconvert_exporter": "python",
   "pygments_lexer": "ipython3",
   "version": "3.7.3"
  }
 },
 "nbformat": 4,
 "nbformat_minor": 2
}
