{
 "cells": [
  {
   "cell_type": "code",
   "execution_count": 52,
   "metadata": {},
   "outputs": [],
   "source": [
    "food_times = [3, 1, 2]\n",
    "k = 5\n",
    "result = 1"
   ]
  },
  {
   "cell_type": "code",
   "execution_count": 53,
   "metadata": {},
   "outputs": [],
   "source": [
    "def solution(food_times, k,):\n",
    "    count = 0 # 먹을 음식의 번호 \n",
    "    loop_num = 0 # 루프한 횟수    \n",
    "    top_num = sum(food_times)\n",
    "    \n",
    "    while food_times != [0 for _ in range(len(food_times))]: # 전부 0인 배열이 나올 때 까지\n",
    "        if loop_num == k or loop_num > top_num: # 중단이 되거나 전체 횟수를 지나도 루프가 돌면\n",
    "            break # while문 종료\n",
    "        else:\n",
    "            if food_times[count] == 0: #음식을 다 먹었다면\n",
    "                pass # 다음 루프로\n",
    "            else: # 음식이 아직 있으면\n",
    "                food_times[count] -= 1 # 음식의 수를 줄이고\n",
    "                count += 1 #카운트를 더한다\n",
    "                if count >= len(food_times): # 음식 번호가 배열값을 넘어가면\n",
    "                    count = 0 #초기화\n",
    "            loop_num += 1\n",
    "    \n",
    "    if loop_num > top_num:\n",
    "        answer = - 1\n",
    "    else:\n",
    "        answer = count # 인덱스를 반환 \n",
    "    \n",
    "    return answer "
   ]
  },
  {
   "cell_type": "code",
   "execution_count": 54,
   "metadata": {},
   "outputs": [
    {
     "data": {
      "text/plain": [
       "1"
      ]
     },
     "execution_count": 54,
     "metadata": {},
     "output_type": "execute_result"
    }
   ],
   "source": [
    "solution(food_times, k)"
   ]
  },
  {
   "cell_type": "code",
   "execution_count": null,
   "metadata": {},
   "outputs": [],
   "source": []
  }
 ],
 "metadata": {
  "kernelspec": {
   "display_name": "Python 3",
   "language": "python",
   "name": "python3"
  },
  "language_info": {
   "codemirror_mode": {
    "name": "ipython",
    "version": 3
   },
   "file_extension": ".py",
   "mimetype": "text/x-python",
   "name": "python",
   "nbconvert_exporter": "python",
   "pygments_lexer": "ipython3",
   "version": "3.7.3"
  }
 },
 "nbformat": 4,
 "nbformat_minor": 2
}
