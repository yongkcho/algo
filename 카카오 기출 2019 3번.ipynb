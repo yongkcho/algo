{
 "cells": [
  {
   "cell_type": "code",
   "execution_count": 2,
   "metadata": {},
   "outputs": [],
   "source": [
    "# https://kyome.tistory.com/109\n",
    "from itertools import combinations\n",
    "def solution(relation):\n",
    "    answer = 0\n",
    "    # 모든 컬럼의 조합 리스트 \n",
    "    all = list()\n",
    "    \n",
    "    # 유일성 만족하는 조합 리스트 \n",
    "    unique_index = []\n",
    "    \n",
    "    if len(relation) > 0:\n",
    "        # 컬럼의 개수\n",
    "        col_num = len(relation[0])\n",
    "        # 로우의 개수\n",
    "        row_num = len(relation)\n",
    "        \n",
    "        #모든 컬럼의 조합 구하기 \n",
    "        for i in range(1, col_num + 1):\n",
    "            all.extend([set(k) for k in combinations()])\n",
    "    \n",
    "    # 유일성 검증\n",
    "    for comb in all:\n",
    "        vaild_set = set()\n",
    "        \n",
    "        for row in range(row_num):\n",
    "            temp = ''\n",
    "            for col in comb:\n",
    "                temp += relation[row][col]\n",
    "            if len(valid_set) == row_num:\n",
    "                unique_index.append(row)\n",
    "    # 최소성 검증\n",
    "    del_set = set()\n",
    "    # 부분집합 찾ㅈ기\n",
    "    for element in unique_index:\n",
    "        for idx, min_element in enumerate(unique_index):\n",
    "            if element.issubset(min_element) and element != min_element: # 진부분집합이면\n",
    "                del_set.add(unique_index.index(min_element))\n",
    "    answer = len(unique_index) - len(del_set)\n",
    "    \n",
    "    return answer"
   ]
  },
  {
   "cell_type": "code",
   "execution_count": 26,
   "metadata": {},
   "outputs": [],
   "source": [
    "# https://geonlee.tistory.com/66?category=313022\n",
    "from itertools import combinations\n",
    "\n",
    "# 유일성을 만족시키는 키를 탐색\n",
    "def chk_candidate(relation, col_list, row_num):\n",
    "    # nC1부터 nCm까지의 튜플이 있어야 함\n",
    "    # tuple에 해당하는 속성을 가진 temp라는 배열을 만든다.\n",
    "    temp = [tuple([item[idx] for idx in col_list]) for item in relation]\n",
    "    if len(set(temp)) != row_num:  # 집합자료형으로 바꿔 중복이 있는지 확인\n",
    "        return False # 중복이 있으면 탈락\n",
    "    else: \n",
    "        return True # 중복이 없다면(relation의 행과 같다면 후보군에 들어감)\n",
    "        \n",
    "def solution(relation):\n",
    "    row_num = len(relation)\n",
    "    col_num = len(relation[0])\n",
    "    col_list = range(col_num)\n",
    "    lst = []\n",
    "    \n",
    "    for length in range(1, col_num + 1):\n",
    "        comb = combinations(col_list, length)\n",
    "        for new in list(comb):\n",
    "            if chk_candidate(relation, new, row_num):\n",
    "                lst.append(set(new))\n",
    "    \n",
    "    # 최소성을 만족시키지 못하는 키를 제거 \n",
    "    for elm_1 in lst[:]: # list[:]를 사용해 후보키 제거가 for loop에 영향을 미치지 않게 함 \n",
    "        for elm_2 in lst[:]:\n",
    "            if elm_1 == elm_1 & elm_2:\n",
    "                if elm_1 != elm_2:\n",
    "                    lst.remove(elm_2)\n",
    "    return len(lst)"
   ]
  },
  {
   "cell_type": "code",
   "execution_count": 27,
   "metadata": {},
   "outputs": [],
   "source": [
    "relation = [[\"100\",\"ryan\",\"music\",\"2\"],[\"200\",\"apeach\",\"math\",\"2\"],[\"300\",\"tube\",\"computer\",\"3\"],[\"400\",\"con\",\"computer\",\"4\"],[\"500\",\"muzi\",\"music\",\"3\"],[\"600\",\"apeach\",\"music\",\"2\"]]"
   ]
  },
  {
   "cell_type": "code",
   "execution_count": 28,
   "metadata": {},
   "outputs": [
    {
     "data": {
      "text/plain": [
       "2"
      ]
     },
     "execution_count": 28,
     "metadata": {},
     "output_type": "execute_result"
    }
   ],
   "source": [
    "solution(relation)"
   ]
  }
 ],
 "metadata": {
  "kernelspec": {
   "display_name": "Python 3",
   "language": "python",
   "name": "python3"
  },
  "language_info": {
   "codemirror_mode": {
    "name": "ipython",
    "version": 3
   },
   "file_extension": ".py",
   "mimetype": "text/x-python",
   "name": "python",
   "nbconvert_exporter": "python",
   "pygments_lexer": "ipython3",
   "version": "3.7.3"
  }
 },
 "nbformat": 4,
 "nbformat_minor": 2
}
