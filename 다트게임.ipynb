{
 "cells": [
  {
   "cell_type": "code",
   "execution_count": 358,
   "metadata": {},
   "outputs": [],
   "source": [
    "dartResult = \"1D#2S*3S\""
   ]
  },
  {
   "cell_type": "code",
   "execution_count": 344,
   "metadata": {},
   "outputs": [],
   "source": [
    "import re"
   ]
  },
  {
   "cell_type": "code",
   "execution_count": 345,
   "metadata": {},
   "outputs": [],
   "source": [
    "dartResult = re.split('([0-9]+[a-zA-Z])', dartResult)"
   ]
  },
  {
   "cell_type": "code",
   "execution_count": 346,
   "metadata": {},
   "outputs": [],
   "source": [
    "dartResult = list(filter(None, dartResult))"
   ]
  },
  {
   "cell_type": "code",
   "execution_count": 347,
   "metadata": {},
   "outputs": [
    {
     "data": {
      "text/plain": [
       "['1D', '#', '2S', '*', '3S']"
      ]
     },
     "execution_count": 347,
     "metadata": {},
     "output_type": "execute_result"
    }
   ],
   "source": [
    "dartResult"
   ]
  },
  {
   "cell_type": "code",
   "execution_count": 348,
   "metadata": {},
   "outputs": [],
   "source": [
    "bonas_list = [\"S\", \"D\", \"T\"]\n",
    "option_list = [\"*\", \"#\"]\n"
   ]
  },
  {
   "cell_type": "code",
   "execution_count": 349,
   "metadata": {},
   "outputs": [],
   "source": [
    "    for i in range(len(dartResult)):\n",
    "        if dartResult[i] not in option_list:\n",
    "            if dartResult[i][-1] == \"S\":\n",
    "                dartResult[i] = int(dartResult[i][0:len(dartResult[i])-1]) ** 1\n",
    "            elif dartResult[i][-1] == \"D\":\n",
    "                dartResult[i] = int(dartResult[i][0:len(dartResult[i])-1]) ** 2\n",
    "            elif dartResult[i][-1] == \"T\":\n",
    "                dartResult[i] = int(dartResult[i][0:len(dartResult[i])-1]) ** 3"
   ]
  },
  {
   "cell_type": "code",
   "execution_count": 350,
   "metadata": {},
   "outputs": [
    {
     "data": {
      "text/plain": [
       "[1, '#', 2, '*', 3]"
      ]
     },
     "execution_count": 350,
     "metadata": {},
     "output_type": "execute_result"
    }
   ],
   "source": [
    "dartResult"
   ]
  },
  {
   "cell_type": "code",
   "execution_count": 351,
   "metadata": {},
   "outputs": [],
   "source": [
    "# operator\n",
    "for i in range(len(dartResult)):\n",
    "    if dartResult[i] in option_list:\n",
    "        if dartResult[i] == \"*\":\n",
    "            if i == 1: #첫번째 스타상인 경우\n",
    "                dartResult[i - 1] = dartResult[i - 1] * 2 # 앞에 숫자만 2배\n",
    "            else:\n",
    "                dartResult[i - 1] = dartResult[i - 1] * 2 # 앞에 숫자 2배\n",
    "                if dartResult[i - 2] != 0: \n",
    "                    dartResult[i - 2] = dartResult[i - 2] * 2 # 그 앞에 숫자도 2배\n",
    "                else:\n",
    "                    dartResult[i - 3] = dartResult[i - 3] * 2\n",
    "        if dartResult[i] == \"#\":\n",
    "            dartResult[i - 1] = dartResult[i - 1] * -1 # 음수로 바꿈\n",
    "        dartResult[i] = 0 #계산 끝난 부호는 0처리"
   ]
  },
  {
   "cell_type": "code",
   "execution_count": 352,
   "metadata": {},
   "outputs": [
    {
     "data": {
      "text/plain": [
       "[-2, 0, 4, 0, 3]"
      ]
     },
     "execution_count": 352,
     "metadata": {},
     "output_type": "execute_result"
    }
   ],
   "source": [
    "dartResult"
   ]
  },
  {
   "cell_type": "code",
   "execution_count": 353,
   "metadata": {},
   "outputs": [],
   "source": [
    "answer = sum(dartResult)"
   ]
  },
  {
   "cell_type": "code",
   "execution_count": 354,
   "metadata": {},
   "outputs": [
    {
     "data": {
      "text/plain": [
       "5"
      ]
     },
     "execution_count": 354,
     "metadata": {},
     "output_type": "execute_result"
    }
   ],
   "source": [
    "answer"
   ]
  },
  {
   "cell_type": "code",
   "execution_count": 359,
   "metadata": {},
   "outputs": [],
   "source": [
    "import re\n",
    "def solution(dartResult):\n",
    "    dartResult = re.split('([0-9]+[a-zA-Z])', dartResult)\n",
    "    dartResult = list(filter(None, dartResult))\n",
    "    \n",
    "    bonas_list = [\"S\", \"D\", \"T\"]\n",
    "    option_list = [\"*\", \"#\"]\n",
    "    \n",
    "    # convertor\n",
    "    for i in range(len(dartResult)):\n",
    "        if dartResult[i] not in option_list:\n",
    "            if dartResult[i][-1] == \"S\":\n",
    "                dartResult[i] = int(dartResult[i][0:len(dartResult[i])-1]) ** 1\n",
    "            elif dartResult[i][-1] == \"D\":\n",
    "                dartResult[i] = int(dartResult[i][0:len(dartResult[i])-1]) ** 2\n",
    "            elif dartResult[i][-1] == \"T\":\n",
    "                dartResult[i] = int(dartResult[i][0:len(dartResult[i])-1]) ** 3\n",
    "    # operator\n",
    "    for i in range(len(dartResult)):\n",
    "        if dartResult[i] in option_list:\n",
    "            if dartResult[i] == \"*\":\n",
    "                if i == 1: #첫번째 스타상인 경우\n",
    "                    dartResult[i - 1] = dartResult[i - 1] * 2 # 앞에 숫자만 2배\n",
    "                else:\n",
    "                    dartResult[i - 1] = dartResult[i - 1] * 2 # 앞에 숫자 2배\n",
    "                    if dartResult[i - 2] != 0: \n",
    "                        dartResult[i - 2] = dartResult[i - 2] * 2 # 그 앞에 숫자도 2배\n",
    "                    else:\n",
    "                        dartResult[i - 3] = dartResult[i - 3] * 2\n",
    "            if dartResult[i] == \"#\":\n",
    "                dartResult[i - 1] = dartResult[i - 1] * -1 # 음수로 바꿈\n",
    "            dartResult[i] = 0 #계산 끝난 부호는 0처리\n",
    "    answer = sum(dartResult)\n",
    "    return answer"
   ]
  },
  {
   "cell_type": "code",
   "execution_count": 360,
   "metadata": {},
   "outputs": [
    {
     "data": {
      "text/plain": [
       "5"
      ]
     },
     "execution_count": 360,
     "metadata": {},
     "output_type": "execute_result"
    }
   ],
   "source": [
    "solution(dartResult)"
   ]
  },
  {
   "cell_type": "code",
   "execution_count": null,
   "metadata": {},
   "outputs": [],
   "source": []
  }
 ],
 "metadata": {
  "kernelspec": {
   "display_name": "Python 3",
   "language": "python",
   "name": "python3"
  },
  "language_info": {
   "codemirror_mode": {
    "name": "ipython",
    "version": 3
   },
   "file_extension": ".py",
   "mimetype": "text/x-python",
   "name": "python",
   "nbconvert_exporter": "python",
   "pygments_lexer": "ipython3",
   "version": "3.7.3"
  }
 },
 "nbformat": 4,
 "nbformat_minor": 2
}
