{
 "cells": [
  {
   "cell_type": "code",
   "execution_count": 152,
   "metadata": {},
   "outputs": [],
   "source": [
    "board = [[0, 0, 0, 1, 1],[0, 0, 0, 1, 0],[0, 1, 0, 1, 1],[1, 1, 0, 0, 1],[0, 0, 0, 0, 0]]"
   ]
  },
  {
   "cell_type": "code",
   "execution_count": 161,
   "metadata": {},
   "outputs": [],
   "source": [
    "def solution(board):\n",
    "    # 초기값세팅\n",
    "    robot = [[0,0], [1,0]]\n",
    "    count = 0\n",
    "    y_axis = 0\n",
    "    n = len(board) - 1\n",
    "\n",
    "    while robot != [[n, n], [n - 1, n]] and robot != [[n -1, n], [n, n]]: # 끝 위치가 아니라면\n",
    "        if robot[0][1] == robot[1][1]: # y 좌표가 동일한 가로의 경우\n",
    "            if robot[1][0] + 1 < n: # 벽에 부딪히기 전까지\n",
    "                if board[y_axis][robot[1][0] + 1] == 0: # 가능하다면 옆으로 이동\n",
    "                    robot[0][0] +=1 # x좌표에 1씩 더해줌\n",
    "                    robot[1][0] +=1\n",
    "                    count += 1\n",
    "                else: # 벽에 부딪히면\n",
    "                    y_axis += 1 #아래로 내려가고\n",
    "                    robot[0][0] += 1 # 회전시키기 위해 더해줌 \n",
    "                    robot[0][1] += 1\n",
    "                    count += 1\n",
    "            else: \n",
    "                robot[0][0] +=1 # x좌표에 1씩 더해줌\n",
    "                robot[1][0] +=1\n",
    "                count += 1\n",
    "        else: # 로봇이 x좌표가 동일한 세로인 경우 \n",
    "            if y_axis + 1 <= n:\n",
    "                if board[y_axis + 1][robot[0][0]] == 0: # 가능하다면 아래로 이동\n",
    "                    y_axis += 1 #아래로 내려가고\n",
    "                    robot[0][1] += 1 # y좌표에 1씩 더해줌\n",
    "                    robot[1][1] += 1\n",
    "                    count += 1\n",
    "                else: # 벽에 부딪히면 \n",
    "                    robot[1][0] += 1\n",
    "                    robot[1][1] += 1\n",
    "                    count += 1\n",
    "            else: # 가장 마지막 바닥에 도달하면\n",
    "                robot[1][0] += 1\n",
    "                robot[1][1] += 1\n",
    "                count += 1\n",
    "    return count"
   ]
  },
  {
   "cell_type": "code",
   "execution_count": 162,
   "metadata": {},
   "outputs": [
    {
     "data": {
      "text/plain": [
       "7"
      ]
     },
     "execution_count": 162,
     "metadata": {},
     "output_type": "execute_result"
    }
   ],
   "source": [
    "solution(board)"
   ]
  }
 ],
 "metadata": {
  "kernelspec": {
   "display_name": "Python 3",
   "language": "python",
   "name": "python3"
  },
  "language_info": {
   "codemirror_mode": {
    "name": "ipython",
    "version": 3
   },
   "file_extension": ".py",
   "mimetype": "text/x-python",
   "name": "python",
   "nbconvert_exporter": "python",
   "pygments_lexer": "ipython3",
   "version": "3.7.6"
  }
 },
 "nbformat": 4,
 "nbformat_minor": 4
}
