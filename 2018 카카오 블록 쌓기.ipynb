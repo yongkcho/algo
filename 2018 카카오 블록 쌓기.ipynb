{
 "cells": [
  {
   "cell_type": "code",
   "execution_count": 101,
   "metadata": {},
   "outputs": [],
   "source": [
    "# https://aliwo.github.io/swblog/python3/algorithm/kakao_blind_2018_friends_4_block/#"
   ]
  },
  {
   "cell_type": "code",
   "execution_count": 105,
   "metadata": {},
   "outputs": [],
   "source": [
    "# https://geonlee.tistory.com/106\n",
    "# https://gingerkang.tistory.com/38\n",
    "# https://blog.naver.com/PostView.nhn?blogId=hands731&logNo=221949267738"
   ]
  },
  {
   "cell_type": "code",
   "execution_count": 107,
   "metadata": {},
   "outputs": [],
   "source": [
    "m = 4\n",
    "n = 5\n",
    "board = [\"CCBDE\", \"AAADE\", \"AAABF\", \"CCBBF\"]"
   ]
  },
  {
   "cell_type": "code",
   "execution_count": 109,
   "metadata": {},
   "outputs": [],
   "source": [
    "def solution(m, n, board):\n",
    "    block = [] # block의 리스트 \n",
    "    answer = 0\n",
    "    \n",
    "    for i in range(n): # 블록은 편의를 위해 리스트 형태로 바꾼다\n",
    "        block.append([])\n",
    "        for j in range(m -1, -1 , -1): # 길이를 뒤집고 \n",
    "            block[i].append(board[j][i]) # 쌓아 올린다\n",
    "            \n",
    "    def search(): # 검색하는 기능\n",
    "        result = 0 \n",
    "        temp = set() # 중복 자료 없애기 위해 집합 자료형 \n",
    "        for i in range(len(block) - 1):\n",
    "            for j in range(len(block[i]) - 1):\n",
    "                # 벽에 부딪히기 전까지 2x2의 윈도우를 이동해 가며 값이 모두 같을 경우 좌표를 집합에 집어 넣는다.\n",
    "                if j < (len(block[i + 1]) -1) and block[i][j]==block[i+1][j]==block[i][j+1]==block[i+1][j+1]:\n",
    "                     temp.update([(i,j),(i+1,j),(i,j+1),(i+1,j+1)])\n",
    "        if temp:\n",
    "            for t in reversed(sorted(temp)): # 정렬한 좌표에 대해 \n",
    "                del block[t[0]][t[1]] # 블록을 삭제\n",
    "                result += 1 # 삭제한 블록에 대해서 값을 더해준다\n",
    "            return result # 끝나면 result 반환\n",
    "        else:\n",
    "            return 0 #없으면 0 반환\n",
    "        \n",
    "    while True:\n",
    "        my = search()\n",
    "        answer += my\n",
    "        if my == 0:\n",
    "            break\n",
    "    return answer"
   ]
  },
  {
   "cell_type": "code",
   "execution_count": 110,
   "metadata": {},
   "outputs": [
    {
     "data": {
      "text/plain": [
       "14"
      ]
     },
     "execution_count": 110,
     "metadata": {},
     "output_type": "execute_result"
    }
   ],
   "source": [
    "solution(m, n, board)"
   ]
  },
  {
   "cell_type": "code",
   "execution_count": null,
   "metadata": {},
   "outputs": [],
   "source": [
    " "
   ]
  }
 ],
 "metadata": {
  "kernelspec": {
   "display_name": "Python 3",
   "language": "python",
   "name": "python3"
  },
  "language_info": {
   "codemirror_mode": {
    "name": "ipython",
    "version": 3
   },
   "file_extension": ".py",
   "mimetype": "text/x-python",
   "name": "python",
   "nbconvert_exporter": "python",
   "pygments_lexer": "ipython3",
   "version": "3.7.3"
  }
 },
 "nbformat": 4,
 "nbformat_minor": 2
}
