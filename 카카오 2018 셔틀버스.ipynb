{
 "cells": [
  {
   "cell_type": "code",
   "execution_count": 98,
   "metadata": {},
   "outputs": [],
   "source": [
    "n = 1\n",
    "t = 1\n",
    "m = 1"
   ]
  },
  {
   "cell_type": "code",
   "execution_count": 99,
   "metadata": {},
   "outputs": [],
   "source": [
    "timetable = [\"23:59\"]"
   ]
  },
  {
   "cell_type": "code",
   "execution_count": 25,
   "metadata": {},
   "outputs": [],
   "source": [
    "from datetime import timedelta, date, datetime\n",
    "start = datetime.strptime('00:00', '%H:%M')\n",
    "end = datetime.strptime('23:59', '%H:%M')"
   ]
  },
  {
   "cell_type": "code",
   "execution_count": 64,
   "metadata": {},
   "outputs": [],
   "source": [
    "# 1분 간격의 리스트를 만든다.\n",
    "time_list = []\n",
    "for hour in range(0, 24): # hour\n",
    "    hour = str(hour)\n",
    "    for minute in range(0, 60):\n",
    "        minute = str(minute)\n",
    "        if len(hour) == 1: \n",
    "            hour = \"0\" + hour \n",
    "        if len(minute) == 1:\n",
    "            minute = \"0\" + minute\n",
    "        time_list.append(hour + ':' + minute)"
   ]
  },
  {
   "cell_type": "code",
   "execution_count": 100,
   "metadata": {},
   "outputs": [],
   "source": [
    "# https://blog.naver.com/PostView.nhn?blogId=jaeyoon_95&logNo=221904129221&categoryNo=74&parentCategoryNo=0&viewDate=&currentPage=1&postListTopCurrentPage=1&from=search\n",
    "def solution(n, t, m, timetable):\n",
    "    answer = ''\n",
    "    timetable = [int(time[:2]) * 60 + int(time[3:5]) for time in timetable] # 분을 초로 바꿔서 구현\n",
    "    timetable.sort() # 내림차순 정렬\n",
    "    last_time = (60 * 9) + (n - 1) * t # 버스의 마지막 도착 시간 \n",
    "    \n",
    "    for i in range(n):\n",
    "        if len(timetable) < m: # 사람 수가 한번에 다 탈 수 있다면 마지막 버스를 타면 된다\n",
    "            return '%02d:%02d'%(last_time // 60, last_time % 60) # last time을 시간 형태로 바꿔 반환 \n",
    "        if i == n - 1:\n",
    "            if timetable[0] <= last_time: \n",
    "                last_time = timetable[m-1] - 1\n",
    "            return '%02d:%02d'%(last_time//60,last_time%60)\n",
    "        for j in range(m - 1, -1, -1): # 사람의 수를 역순으로 생각 \n",
    "            bus_arrive = (60 * 9) + i * t # t 시간에 오는 n번째 버스에 대해 \n",
    "            if timetable[j] <= bus_arrive: # 마지막 사람의 시간이 도착 시간보다 작으면\n",
    "                del timetable[j] # 그 사람 삭제 # https://blog.naver.com/PostView.nhn?blogId=jaeyoon_95&logNo=221904129221&categoryNo=74&parentCategoryNo=0&viewDate=&currentPage=1&postListTopCurrentPage=1&from=search"
   ]
  },
  {
   "cell_type": "code",
   "execution_count": 101,
   "metadata": {
    "scrolled": true
   },
   "outputs": [],
   "source": [
    "solution(n, t, m, timetable)"
   ]
  },
  {
   "cell_type": "code",
   "execution_count": 102,
   "metadata": {},
   "outputs": [
    {
     "data": {
      "text/plain": [
       "1"
      ]
     },
     "execution_count": 102,
     "metadata": {},
     "output_type": "execute_result"
    }
   ],
   "source": [
    "len(timetable)"
   ]
  },
  {
   "cell_type": "code",
   "execution_count": null,
   "metadata": {},
   "outputs": [],
   "source": [
    "def solution(n, t, m, timetable):\n",
    "    answer = ''\n",
    "    timetable = [int(time[:2])*60 + int(time[3:5]) for time in timetable]\n",
    "    timetable.sort()\n",
    "    last_time = (60*9) + (n-1)*t\n",
    "    \n",
    "    for i in range(n):\n",
    "        if len(timetable) < m: \n",
    "            return '%02d:%02d'%(last_time//60,last_time%60)\n",
    "        if i == n - 1:\n",
    "            if timetable[0] <= last_time: \n",
    "                last_time = timetable[m-1] - 1\n",
    "            return '%02d:%02d'%(last_time//60,last_time%60)\n",
    "        for j in range(m-1, -1, -1):\n",
    "            bus_arrive = (60*9) + i * t\n",
    "            if timetable[j] <= bus_arrive:\n",
    "                del timetable[j]"
   ]
  }
 ],
 "metadata": {
  "kernelspec": {
   "display_name": "Python 3",
   "language": "python",
   "name": "python3"
  },
  "language_info": {
   "codemirror_mode": {
    "name": "ipython",
    "version": 3
   },
   "file_extension": ".py",
   "mimetype": "text/x-python",
   "name": "python",
   "nbconvert_exporter": "python",
   "pygments_lexer": "ipython3",
   "version": "3.7.3"
  }
 },
 "nbformat": 4,
 "nbformat_minor": 2
}
