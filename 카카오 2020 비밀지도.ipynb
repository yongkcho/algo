{
 "cells": [
  {
   "cell_type": "code",
   "execution_count": 36,
   "metadata": {},
   "outputs": [],
   "source": [
    "n = 5"
   ]
  },
  {
   "cell_type": "code",
   "execution_count": 75,
   "metadata": {},
   "outputs": [],
   "source": [
    "arr1 = [9, 20, 28, 18, 11]\n",
    "arr2 = [30, 1, 21, 17, 28]"
   ]
  },
  {
   "cell_type": "code",
   "execution_count": 76,
   "metadata": {},
   "outputs": [],
   "source": [
    "order = [[8,5],[6,7],[4,1]]\t"
   ]
  },
  {
   "cell_type": "code",
   "execution_count": 77,
   "metadata": {},
   "outputs": [],
   "source": [
    "import re"
   ]
  },
  {
   "cell_type": "code",
   "execution_count": 120,
   "metadata": {},
   "outputs": [],
   "source": [
    "def arr_to_map(n, arr):\n",
    "    to_map = []\n",
    "\n",
    "    for i in range(n):\n",
    "        temp_map = [[]] * n\n",
    "        temp = re.findall('[0-9+]', bin(arr[i]))\n",
    "        if len(temp) > n: #맨앞의 0제거\n",
    "            temp = temp[1:len(temp)]  \n",
    "        if len(temp) < n: #앞에 0추가\n",
    "            temp = [\"0\"] * (n - len(temp))  + temp\n",
    "        for j in range(n):\n",
    "            temp_map[j] = int(temp[j])\n",
    "        to_map.append(temp_map)\n",
    "    return to_map "
   ]
  },
  {
   "cell_type": "code",
   "execution_count": 129,
   "metadata": {},
   "outputs": [],
   "source": [
    "def solution(n, arr1, arr2):\n",
    "    map1 = arr_to_map(n, arr1)\n",
    "    map2 = arr_to_map(n, arr2) \n",
    "    \n",
    "    answer = []\n",
    "    for i in range(n):\n",
    "        temp_map = [[]] * n\n",
    "        for j in range(n):\n",
    "            if map_1[i][j] + map_2[i][j] == 0:\n",
    "                temp_map[j] = \" \"\n",
    "            else:\n",
    "                temp_map[j] = \"#\"\n",
    "        answer.append(\"\".join(temp_map))\n",
    "    return answer"
   ]
  },
  {
   "cell_type": "code",
   "execution_count": 130,
   "metadata": {},
   "outputs": [
    {
     "data": {
      "text/plain": [
       "['#####', '# # #', '### #', '#  ##', '#####']"
      ]
     },
     "execution_count": 130,
     "metadata": {},
     "output_type": "execute_result"
    }
   ],
   "source": [
    "solution(n, arr1, arr2)"
   ]
  },
  {
   "cell_type": "code",
   "execution_count": null,
   "metadata": {},
   "outputs": [],
   "source": []
  }
 ],
 "metadata": {
  "kernelspec": {
   "display_name": "Python 3",
   "language": "python",
   "name": "python3"
  },
  "language_info": {
   "codemirror_mode": {
    "name": "ipython",
    "version": 3
   },
   "file_extension": ".py",
   "mimetype": "text/x-python",
   "name": "python",
   "nbconvert_exporter": "python",
   "pygments_lexer": "ipython3",
   "version": "3.7.3"
  }
 },
 "nbformat": 4,
 "nbformat_minor": 2
}
