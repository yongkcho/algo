{
 "cells": [
  {
   "cell_type": "code",
   "execution_count": 2,
   "metadata": {},
   "outputs": [
    {
     "name": "stdout",
     "output_type": "stream",
     "text": [
      "[[0, 0, 0, 0, 0], [0, 0, 0, 0, 0]]\n"
     ]
    }
   ],
   "source": [
    "# list comprehension을 사용한 2차원 리스트 생성\n",
    "\n",
    "n, m = 2, 5 # N * M 의 \n",
    "data = [[0] * m for _ in range(n)]\n",
    "print(data)"
   ]
  },
  {
   "cell_type": "code",
   "execution_count": 3,
   "metadata": {},
   "outputs": [],
   "source": [
    "# 두 리스트 합치기\n",
    "def matrix_add(a, b):\n",
    "    n = len(a)\n",
    "    m = len(a[0])\n",
    "    \n",
    "    result = [[0] * m for _ in range(n)]\n",
    "    for i in range(n):\n",
    "        for j in range(m):\n",
    "            result[i][j] = a[i][j] + b[i][j]\n",
    "    return result"
   ]
  },
  {
   "cell_type": "code",
   "execution_count": 4,
   "metadata": {},
   "outputs": [],
   "source": [
    "# 두 리스트 합치기\n",
    "def matrix_add(a, b):\n",
    "    n = len(a) # 행 길이 \n",
    "    m = len(a[0]) # 열 길이\n",
    "    \n",
    "    result = [[0] * m for _ in range(n)] # 빈 리스트 만들기\n",
    "    for i in range(n):\n",
    "        for j in range(m):\n",
    "            result[i][j] = a[i][j] + b[i][j]\n",
    "    return result"
   ]
  },
  {
   "cell_type": "code",
   "execution_count": 5,
   "metadata": {},
   "outputs": [],
   "source": [
    "# 리스트 회전하기\n",
    "def rotate_matrix_by_90(a):\n",
    "    n = len(a)\n",
    "    m = len(a[0])\n",
    "    \n",
    "    result = [[0] * n for _ in range(m)] # n, m을 바꾼 빈 행렬 만들기\n",
    "    for i in range(n):\n",
    "        for j in range(m):\n",
    "            result[j][n - i -1] = a[i][j]\n",
    "            \n",
    "    return result"
   ]
  },
  {
   "cell_type": "code",
   "execution_count": 12,
   "metadata": {},
   "outputs": [],
   "source": [
    "# 이진탐색\n",
    "def binary_search(data, start, end, target):\n",
    "    while start <= end:\n",
    "        mid = (start + end) // 2\n",
    "        # 찾은 경우 중간점 반환\n",
    "        if data[mid] == target:\n",
    "            return mid\n",
    "        # 중간점의 값보다 데이터가 큰 경우 오른쪽 확인\n",
    "        elif data[mid] < target:\n",
    "            start = mid + 1\n",
    "        # 중간점의 값보다 작은 경우 왼쪽 확인\n",
    "        else:\n",
    "            end = mid - 1 #\n",
    "    return None # start가 end보다 커진 경우 stop -> None"
   ]
  },
  {
   "cell_type": "code",
   "execution_count": 13,
   "metadata": {},
   "outputs": [],
   "source": [
    "bata = [1, 3, 5, 7, 9]\n",
    "result = binary_search(data, 0, len(data) -1, 7)"
   ]
  },
  {
   "cell_type": "code",
   "execution_count": 14,
   "metadata": {},
   "outputs": [
    {
     "name": "stdout",
     "output_type": "stream",
     "text": [
      "탐색 성공 : 인덱스  3\n"
     ]
    }
   ],
   "source": [
    "if result == None:\n",
    "    print(\"탐색실패\")\n",
    "else:\n",
    "    print(\"탐색 성공 : 인덱스 \", result)"
   ]
  },
  {
   "cell_type": "code",
   "execution_count": 17,
   "metadata": {},
   "outputs": [
    {
     "name": "stdout",
     "output_type": "stream",
     "text": [
      "2\n",
      "5\n"
     ]
    }
   ],
   "source": [
    "# 특정 범위의 데이터 개수 구하기\n",
    "from bisect import bisect_left, bisect_right\n",
    "\n",
    "# 값이 [left_value, right_value]인 데이터의 개수를 반환하는 함수\n",
    "def count_by_range(a, left_value, right_value):\n",
    "    right_index = bisect_right(a, right_value)\n",
    "    left_index = bisect_left(a, left_value)\n",
    "    return right_index - left_index\n",
    "\n",
    "# 배열 선언\n",
    "a = [1, 2, 3, 3, 3, 4, 4, 8, 9]\n",
    "\n",
    "# 값이 4인 데이터 개수 출력\n",
    "print(count_by_range(a, 4, 4))\n",
    "\n",
    "# 값이 [-1, 3] 범위 내에 있는 데이터 개수 출력\n",
    "print(count_by_range(a, -1, 3))"
   ]
  },
  {
   "cell_type": "code",
   "execution_count": 20,
   "metadata": {},
   "outputs": [
    {
     "name": "stdout",
     "output_type": "stream",
     "text": [
      "5\n"
     ]
    }
   ],
   "source": [
    "# 정확히 값이 x인 데이터 인덱스 \n",
    "def index_of_x(a, x):\n",
    "    i = bisect_left(a, x)\n",
    "    if i != len(a) and a[i] == x:\n",
    "        return i\n",
    "    return None\n",
    "print(index_of_x(a, 4))"
   ]
  },
  {
   "cell_type": "code",
   "execution_count": 21,
   "metadata": {},
   "outputs": [
    {
     "name": "stdout",
     "output_type": "stream",
     "text": [
      "4\n"
     ]
    }
   ],
   "source": [
    "# x보다 작은 데이터 중에서, 가장 큰 값의 인덱스 반환\n",
    "def index_of_less_than_x(a, x):\n",
    "    i = bisect_left(a, x)\n",
    "    # x보다 작은 데이터가 존재하는 경우\n",
    "    if i:\n",
    "        return i - 1 # 그 값중 가장 큰 값의 인덱스 반환\n",
    "    return None\n",
    "\n",
    "print(index_of_less_than_x(a, 4))"
   ]
  },
  {
   "cell_type": "code",
   "execution_count": 23,
   "metadata": {},
   "outputs": [
    {
     "name": "stdout",
     "output_type": "stream",
     "text": [
      "6\n"
     ]
    }
   ],
   "source": [
    "# x보다 작거나 같은 데이터 중에서, 가장 큰 값의 인덱스 반환\n",
    "def index_of_less_or_equal_than_x(a, x):\n",
    "    i = bisect_right(a, x)\n",
    "    # x보다 작거나 같은 데이터가 존재하는 경우\n",
    "    if i:\n",
    "        return i - 1 #그 값중 가장 큰 값의 인덱스 반환\n",
    "    return None \n",
    "\n",
    "print(index_of_less_or_equal_than_x(a,5))"
   ]
  },
  {
   "cell_type": "code",
   "execution_count": 25,
   "metadata": {},
   "outputs": [
    {
     "name": "stdout",
     "output_type": "stream",
     "text": [
      "8\n"
     ]
    }
   ],
   "source": [
    "# x보다 큰 데이터 중에서, 가장 작은 값의 인덱스 반환\n",
    "def index_of_greater_than_x(a, x):\n",
    "    i = bisect_right(a, x)\n",
    "    # x 보다 큰 데이터가 존재하는 경우\n",
    "    if i != len(a):\n",
    "        return i\n",
    "    return None\n",
    "\n",
    "print(index_of_greater_than_x(a, 8))"
   ]
  },
  {
   "cell_type": "code",
   "execution_count": 26,
   "metadata": {},
   "outputs": [
    {
     "name": "stdout",
     "output_type": "stream",
     "text": [
      "7\n"
     ]
    }
   ],
   "source": [
    "# x보다 크거나 같은 데이터 중에서, 가장 작은 값의 인덱스 반환\n",
    "def index_of_greater_or_equal_than_x(a, x):\n",
    "    i = bisect_left(a, x)\n",
    "    # x 보다 크거나 같은 데이터가 존재하는 경우\n",
    "    if i != len(a):\n",
    "        return i\n",
    "    return None\n",
    "\n",
    "print(index_of_greater_or_equal_than_x(a, 8))"
   ]
  },
  {
   "cell_type": "code",
   "execution_count": 1,
   "metadata": {},
   "outputs": [
    {
     "name": "stdout",
     "output_type": "stream",
     "text": [
      "[('A', 'B', 'C'), ('A', 'C', 'B'), ('B', 'A', 'C'), ('B', 'C', 'A'), ('C', 'A', 'B'), ('C', 'B', 'A')]\n"
     ]
    }
   ],
   "source": [
    "# 순열\n",
    "from itertools import permutations \n",
    "\n",
    "data = ['A', 'B', 'C']\n",
    "\n",
    "result = list(permutations(data, 3))\n",
    "print(result)"
   ]
  },
  {
   "cell_type": "code",
   "execution_count": 2,
   "metadata": {},
   "outputs": [
    {
     "name": "stdout",
     "output_type": "stream",
     "text": [
      "[('A', 'B'), ('A', 'C'), ('B', 'C')]\n"
     ]
    }
   ],
   "source": [
    "# 조합\n",
    "from itertools import combinations\n",
    "\n",
    "data = ['A', 'B', 'C']\n",
    "\n",
    "result = list(combinations(data, 2))\n",
    "print(result)"
   ]
  },
  {
   "cell_type": "code",
   "execution_count": 3,
   "metadata": {},
   "outputs": [
    {
     "name": "stdout",
     "output_type": "stream",
     "text": [
      "[('A', 'A'), ('A', 'B'), ('A', 'C'), ('B', 'A'), ('B', 'B'), ('B', 'C'), ('C', 'A'), ('C', 'B'), ('C', 'C')]\n"
     ]
    }
   ],
   "source": [
    "# 중복 순열\n",
    "from itertools import product\n",
    "\n",
    "data = ['A', 'B', 'C']\n",
    "\n",
    "result = list(product(data, repeat = 2)) # 2개를 뽑는 중복순열 구하기\n",
    "print(result)"
   ]
  },
  {
   "cell_type": "code",
   "execution_count": 4,
   "metadata": {},
   "outputs": [
    {
     "name": "stdout",
     "output_type": "stream",
     "text": [
      "[('A', 'A'), ('A', 'B'), ('A', 'C'), ('B', 'B'), ('B', 'C'), ('C', 'C')]\n"
     ]
    }
   ],
   "source": [
    "# 중복 조합\n",
    "from itertools import combinations_with_replacement\n",
    "\n",
    "data = ['A', 'B', 'C']\n",
    "\n",
    "result = list(combinations_with_replacement(data, 2))\n",
    "print(result)"
   ]
  },
  {
   "cell_type": "code",
   "execution_count": 2,
   "metadata": {},
   "outputs": [
    {
     "name": "stdout",
     "output_type": "stream",
     "text": [
      "12387456"
     ]
    }
   ],
   "source": [
    "#  BFS\n",
    "from collections import deque\n",
    "\n",
    "# BFS 함수 정의\n",
    "def BFS(adj, start, visited):\n",
    "    # 큐를 구현하기 위해 deque 사용\n",
    "    queue = deque([start])\n",
    "    # 현재 노드는 방문 처리\n",
    "    visited[start] = True\n",
    "    \n",
    "    # 큐가 빌 때까지 반복\n",
    "    while queue:\n",
    "        # 큐에서 노드 하나 뽑아 출력\n",
    "        v = queue.popleft()\n",
    "        print(v, end = '')\n",
    "        # 연결된 방문되지 않은 노드를 큐에 삽입\n",
    "        for i in graph[v]:\n",
    "            if not visited [i]:\n",
    "                queue.append(i)\n",
    "                visited[i] = True\n",
    "                \n",
    "#각 노드가 연결된 정보를 리스트 자료형으로 표현\n",
    "graph = [\n",
    "    [],\n",
    "    [2, 3, 8],\n",
    "    [1, 7],\n",
    "    [1, 4, 5],\n",
    "    [3, 5],\n",
    "    [3, 4],\n",
    "    [7],\n",
    "    [2, 6, 8],\n",
    "    [1, 7]\n",
    "]\n",
    "\n",
    "visited = [False] * 9\n",
    "\n",
    "BFS(graph, 1, visited)"
   ]
  },
  {
   "cell_type": "code",
   "execution_count": null,
   "metadata": {},
   "outputs": [],
   "source": []
  }
 ],
 "metadata": {
  "kernelspec": {
   "display_name": "Python 3",
   "language": "python",
   "name": "python3"
  },
  "language_info": {
   "codemirror_mode": {
    "name": "ipython",
    "version": 3
   },
   "file_extension": ".py",
   "mimetype": "text/x-python",
   "name": "python",
   "nbconvert_exporter": "python",
   "pygments_lexer": "ipython3",
   "version": "3.7.6"
  }
 },
 "nbformat": 4,
 "nbformat_minor": 4
}
