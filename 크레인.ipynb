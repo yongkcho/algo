{
 "cells": [
  {
   "cell_type": "code",
   "execution_count": 228,
   "metadata": {},
   "outputs": [],
   "source": [
    "board = [[0,0,0,0,0],[0,0,1,0,3],[0,2,5,0,1],[4,2,4,4,2],[3,5,1,3,1]]\t"
   ]
  },
  {
   "cell_type": "code",
   "execution_count": 229,
   "metadata": {},
   "outputs": [],
   "source": [
    "moves = [1,5,3,5,1,2,1,4]"
   ]
  },
  {
   "cell_type": "code",
   "execution_count": 230,
   "metadata": {},
   "outputs": [],
   "source": [
    "store = [0]\n",
    "count = 0"
   ]
  },
  {
   "cell_type": "code",
   "execution_count": 220,
   "metadata": {},
   "outputs": [],
   "source": [
    "for move in moves:\n",
    "    for i in range(len(board)): # 0아닐 때까지 탐색\n",
    "        if board[i][move - 1] != 0:# 0이면 뽑고 다음으로\n",
    "            if board[i][move - 1] != store[len(store) -1]:\n",
    "                store.append(board[i][move - 1])\n",
    "                board[i][move - 1] = 0\n",
    "                break \n",
    "            else: # 마지막 인자와 같니?\n",
    "                store.remove(board[i][move - 1])\n",
    "                board[i][move - 1] = 0\n",
    "                count += 1\n",
    "                break \n",
    "        else:\n",
    "            continue\n",
    "answer = count  * 2"
   ]
  },
  {
   "cell_type": "code",
   "execution_count": 221,
   "metadata": {},
   "outputs": [
    {
     "data": {
      "text/plain": [
       "[[0, 0, 0, 0, 0],\n",
       " [0, 0, 0, 0, 0],\n",
       " [0, 0, 5, 0, 0],\n",
       " [0, 2, 4, 0, 2],\n",
       " [0, 5, 1, 3, 1]]"
      ]
     },
     "execution_count": 221,
     "metadata": {},
     "output_type": "execute_result"
    }
   ],
   "source": [
    "board"
   ]
  },
  {
   "cell_type": "code",
   "execution_count": 222,
   "metadata": {},
   "outputs": [
    {
     "data": {
      "text/plain": [
       "4"
      ]
     },
     "execution_count": 222,
     "metadata": {},
     "output_type": "execute_result"
    }
   ],
   "source": [
    "answer"
   ]
  },
  {
   "cell_type": "code",
   "execution_count": 223,
   "metadata": {
    "scrolled": true
   },
   "outputs": [
    {
     "data": {
      "text/plain": [
       "[0, 4, 2, 4]"
      ]
     },
     "execution_count": 223,
     "metadata": {},
     "output_type": "execute_result"
    }
   ],
   "source": [
    "store"
   ]
  },
  {
   "cell_type": "code",
   "execution_count": 231,
   "metadata": {},
   "outputs": [],
   "source": [
    "def solution(board, moves):\n",
    "    store = [0]\n",
    "    count = 0\n",
    "    answer = 0\n",
    "    for move in moves:\n",
    "        for i in range(len(board)): # 0아닐 때까지 탐색\n",
    "            if board[i][move - 1] != 0:# 0이면 뽑고 다음으로\n",
    "                if board[i][move - 1] != store[len(store) -1]:\n",
    "                    store.append(board[i][move - 1])\n",
    "                    board[i][move - 1] = 0\n",
    "                    break \n",
    "                else: # 마지막 인자와 같니?\n",
    "                    store.remove(board[i][move - 1])\n",
    "                    board[i][move - 1] = 0\n",
    "                    count += 1\n",
    "                    break \n",
    "            else:\n",
    "                continue\n",
    "    answer = count  * 2\n",
    "    return  answer"
   ]
  },
  {
   "cell_type": "code",
   "execution_count": 232,
   "metadata": {},
   "outputs": [
    {
     "data": {
      "text/plain": [
       "4"
      ]
     },
     "execution_count": 232,
     "metadata": {},
     "output_type": "execute_result"
    }
   ],
   "source": [
    "solution(board, moves)"
   ]
  },
  {
   "cell_type": "code",
   "execution_count": null,
   "metadata": {},
   "outputs": [],
   "source": []
  }
 ],
 "metadata": {
  "kernelspec": {
   "display_name": "Python 3",
   "language": "python",
   "name": "python3"
  },
  "language_info": {
   "codemirror_mode": {
    "name": "ipython",
    "version": 3
   },
   "file_extension": ".py",
   "mimetype": "text/x-python",
   "name": "python",
   "nbconvert_exporter": "python",
   "pygments_lexer": "ipython3",
   "version": "3.7.3"
  }
 },
 "nbformat": 4,
 "nbformat_minor": 2
}
