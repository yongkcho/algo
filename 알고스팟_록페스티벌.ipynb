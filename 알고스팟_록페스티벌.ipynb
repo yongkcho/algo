{
 "cells": [
  {
   "cell_type": "code",
   "execution_count": 75,
   "metadata": {},
   "outputs": [],
   "source": [
    "class festival:\n",
    "    def __init__(self, day_num, team_num, cost):\n",
    "        self.day_num = day_num\n",
    "        self.team_num = team_num\n",
    "        self.cost = cost\n",
    "    \n",
    "    def min_max(self):\n",
    "        min_seq = day_num - team_num # 최소로 연속해야 하는 일자의 수\n",
    "        max_seq = day_num # 최대로 연속해야 하는 일자의 수\n",
    "        \n",
    "    def find_low(self):\n",
    "        avg_cost = [] # avg_cost를 담기 위한 빈 리스트 \n",
    "        for i in range(min_seq, max_seq + 1): # 연속일자의 수를 최소 -> 최대로 탐색\n",
    "            for j in range(0, day_num - i + 1): # 각 연속일자 내에서 시작일자를 인덱스 0부터 탐색\n",
    "                temp_cost = sum(cost[j:j+i])/i\n",
    "                avg_cost.append(temp_cost)\n",
    "        min_avg = min(avg_cost)\n",
    "        return '{0:.10f}'.format(min_avg)"
   ]
  },
  {
   "cell_type": "code",
   "execution_count": 81,
   "metadata": {},
   "outputs": [],
   "source": [
    "fest = festival(day_num, team_num, cost)"
   ]
  },
  {
   "cell_type": "code",
   "execution_count": 105,
   "metadata": {},
   "outputs": [
    {
     "name": "stdout",
     "output_type": "stream",
     "text": [
      "6 3\n",
      "1 2 3 1 2 3\n",
      "1.7500000000\n",
      "6 2\n",
      "1 2 3 1 2 3\n",
      "1.5000000000\n"
     ]
    }
   ],
   "source": [
    "for _ in range(case_num):\n",
    "    day_num, team_num = map(int, input().split()) # 일자 수 N, 공연팀 수 L\n",
    "    cost = [0] + list(map(int, input().split())) # N개의 숫자로 나타낸 공연장 대여 비용\n",
    "    \n",
    "    avg_cost = [] # avg_cost를 담기 위한 빈 리스트 \n",
    "    sum_arr = [0]\n",
    "    \n",
    "    for i in range(1, day_num + 1):\n",
    "        sum_arr.append(sum_arr[i-1] + cost[i]) #누적합을 계산해 리스트로 저장\n",
    "    \n",
    "    for i in range(team_num, day_num + 1): # 연속일자의 수를 최소 -> 최대로 탐색\n",
    "        for j in range(0, day_num - i + 1): # 각 연속일자 내에서 시작일의 누계차 \n",
    "            temp = (sum_arr[j + i] - sum_arr[j]) /i\n",
    "            avg_cost.append(temp)   \n",
    "    min_avg = min(avg_cost)\n",
    "    \n",
    "    print('{0:.10f}'.format(min_avg)) "
   ]
  },
  {
   "cell_type": "code",
   "execution_count": 61,
   "metadata": {},
   "outputs": [
    {
     "data": {
      "text/plain": [
       "[0, 1, 3, 6, 7, 9, 12]"
      ]
     },
     "execution_count": 61,
     "metadata": {},
     "output_type": "execute_result"
    }
   ],
   "source": [
    "sum_arr"
   ]
  },
  {
   "cell_type": "code",
   "execution_count": 101,
   "metadata": {},
   "outputs": [],
   "source": [
    "avg_cost = []"
   ]
  },
  {
   "cell_type": "code",
   "execution_count": 102,
   "metadata": {},
   "outputs": [],
   "source": [
    "for i in range(team_num, day_num + 1): # 연속일자의 수를 최소 -> 최대로 탐색\n",
    "    for j in range(0, day_num - i + 1): # 각 연속일자 내에서 시작일의 누계차 \n",
    "        temp = (sum_arr[j + i] - sum_arr[j]) /i\n",
    "        avg_cost.append(temp)   \n",
    "min_avg = min(avg_cost)"
   ]
  },
  {
   "cell_type": "code",
   "execution_count": 103,
   "metadata": {
    "scrolled": true
   },
   "outputs": [
    {
     "data": {
      "text/plain": [
       "[2.0, 2.0, 2.0, 2.0, 1.75, 2.0, 2.25, 1.8, 2.2, 2.0]"
      ]
     },
     "execution_count": 103,
     "metadata": {},
     "output_type": "execute_result"
    }
   ],
   "source": [
    "avg_cost"
   ]
  }
 ],
 "metadata": {
  "kernelspec": {
   "display_name": "Python 3",
   "language": "python",
   "name": "python3"
  },
  "language_info": {
   "codemirror_mode": {
    "name": "ipython",
    "version": 3
   },
   "file_extension": ".py",
   "mimetype": "text/x-python",
   "name": "python",
   "nbconvert_exporter": "python",
   "pygments_lexer": "ipython3",
   "version": "3.7.6"
  }
 },
 "nbformat": 4,
 "nbformat_minor": 4
}
