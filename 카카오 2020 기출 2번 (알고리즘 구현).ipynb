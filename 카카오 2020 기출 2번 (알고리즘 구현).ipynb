{
 "cells": [
  {
   "cell_type": "code",
   "execution_count": 40,
   "metadata": {},
   "outputs": [],
   "source": [
    "p = \"()))((()\"\n"
   ]
  },
  {
   "cell_type": "code",
   "execution_count": 8,
   "metadata": {},
   "outputs": [],
   "source": [
    "output = \"()(())()\"\n",
    "#output = \"()\""
   ]
  },
  {
   "cell_type": "code",
   "execution_count": 21,
   "metadata": {},
   "outputs": [
    {
     "data": {
      "text/plain": [
       "['(', ')', ')', ')', '(', '(', '(', ')']"
      ]
     },
     "execution_count": 21,
     "metadata": {},
     "output_type": "execute_result"
    }
   ],
   "source": [
    "p"
   ]
  },
  {
   "cell_type": "code",
   "execution_count": 22,
   "metadata": {},
   "outputs": [
    {
     "data": {
      "text/plain": [
       "8"
      ]
     },
     "execution_count": 22,
     "metadata": {},
     "output_type": "execute_result"
    }
   ],
   "source": [
    " len(p)"
   ]
  },
  {
   "cell_type": "code",
   "execution_count": 27,
   "metadata": {},
   "outputs": [],
   "source": [
    " # 변경하기 위해 list로 변환 \n",
    "for i in range(0, len(p)):\n",
    "    if p[i] != p[i + 1]: # 균형잡힌 문자열인 경우\n",
    "        if p[i] != \"(\": # 올바른 괄호 문자열이 아닌 경우\n",
    "            p[i] = \"(\"\n",
    "            p[i + 1] = \")\""
   ]
  },
  {
   "cell_type": "code",
   "execution_count": 28,
   "metadata": {},
   "outputs": [
    {
     "data": {
      "text/plain": [
       "')'"
      ]
     },
     "execution_count": 28,
     "metadata": {},
     "output_type": "execute_result"
    }
   ],
   "source": [
    "u"
   ]
  },
  {
   "cell_type": "code",
   "execution_count": 24,
   "metadata": {},
   "outputs": [],
   "source": [
    "p = ''.join(p)"
   ]
  },
  {
   "cell_type": "code",
   "execution_count": 56,
   "metadata": {
    "scrolled": true
   },
   "outputs": [
    {
     "data": {
      "text/plain": [
       "'()))((()'"
      ]
     },
     "execution_count": 56,
     "metadata": {},
     "output_type": "execute_result"
    }
   ],
   "source": [
    "p"
   ]
  },
  {
   "cell_type": "code",
   "execution_count": 57,
   "metadata": {},
   "outputs": [
    {
     "data": {
      "text/plain": [
       "[0, 1, 2, 3, 4, 5, 6, 7]"
      ]
     },
     "execution_count": 57,
     "metadata": {},
     "output_type": "execute_result"
    }
   ],
   "source": [
    "list( range(len(p)))"
   ]
  },
  {
   "cell_type": "code",
   "execution_count": 63,
   "metadata": {},
   "outputs": [
    {
     "data": {
      "text/plain": [
       "1"
      ]
     },
     "execution_count": 63,
     "metadata": {},
     "output_type": "execute_result"
    }
   ],
   "source": [
    "balanced_index(p)"
   ]
  },
  {
   "cell_type": "code",
   "execution_count": 76,
   "metadata": {},
   "outputs": [],
   "source": [
    "def balanced_index(p):\n",
    "    count = 0 \n",
    "    for i in range(len(p)):\n",
    "        if p[i] == '(':\n",
    "            count += 1\n",
    "        else:\n",
    "            count -= 1\n",
    "        if count == 0:\n",
    "            return i"
   ]
  },
  {
   "cell_type": "code",
   "execution_count": 77,
   "metadata": {},
   "outputs": [],
   "source": [
    "# 올바른 괄호 문자열 매서드\n",
    "def check_proper(p):\n",
    "    count = 0\n",
    "    for i in p:\n",
    "        if i == '(':\n",
    "            count += 1\n",
    "        else:\n",
    "            if count == 0: #쌍이 맞지 않으면 \n",
    "                return False\n",
    "            count -= 1\n",
    "    return True"
   ]
  },
  {
   "cell_type": "code",
   "execution_count": 78,
   "metadata": {},
   "outputs": [
    {
     "data": {
      "text/plain": [
       "False"
      ]
     },
     "execution_count": 78,
     "metadata": {},
     "output_type": "execute_result"
    }
   ],
   "source": [
    "check_proper(p)"
   ]
  },
  {
   "cell_type": "code",
   "execution_count": 82,
   "metadata": {},
   "outputs": [],
   "source": [
    "def solution(p):\n",
    "    answer = ''\n",
    "    if p == '':\n",
    "        return answer\n",
    "    \n",
    "    index = balanced_index(p)\n",
    "    u = p[:index + 1]\n",
    "    v = p[index + 1:]\n",
    "    \n",
    "    if check_proper(u):\n",
    "        answer = u + solution(v)\n",
    "        \n",
    "    else:\n",
    "        answer = '('\n",
    "        answer += solution(v)\n",
    "        answer += ')'\n",
    "        u = list(u[1:-1])\n",
    "        for i in range(len(u)):\n",
    "            if u[i] == '(':\n",
    "                u[i] = ')'\n",
    "            else:\n",
    "                u[i] = '('\n",
    "        answer += \"\".join(u)\n",
    "    return answer"
   ]
  },
  {
   "cell_type": "code",
   "execution_count": 83,
   "metadata": {
    "scrolled": true
   },
   "outputs": [
    {
     "data": {
      "text/plain": [
       "'()(())()'"
      ]
     },
     "execution_count": 83,
     "metadata": {},
     "output_type": "execute_result"
    }
   ],
   "source": [
    "solution(p)"
   ]
  },
  {
   "cell_type": "code",
   "execution_count": 50,
   "metadata": {},
   "outputs": [],
   "source": [
    " balanced_index(p)"
   ]
  },
  {
   "cell_type": "code",
   "execution_count": 13,
   "metadata": {},
   "outputs": [],
   "source": [
    "def balanced_index(p):\n",
    "    '''p를 넣으면 균형잡힌 괄호 문자열의 인덱스를 반환'''\n",
    "    count = 0\n",
    "    for i in range(0, len(p)):\n",
    "        if p[i] == '(':\n",
    "            count += 1\n",
    "        else: \n",
    "            count -= 1\n",
    "        if count == 0:\n",
    "            return i"
   ]
  },
  {
   "cell_type": "code",
   "execution_count": 14,
   "metadata": {},
   "outputs": [],
   "source": [
    "def proper_check(p):\n",
    "    '''올바른 괄호 문자열인지 탐색하는 함수'''\n",
    "    count = 0\n",
    "    for i in range(0, len(p)):\n",
    "        if p[i] == '(':\n",
    "            count += 1\n",
    "        else:\n",
    "            if count == 0:  # 쌍이 안맞는다 \n",
    "                return False\n",
    "            count -= 1 # 이게 끝났을 때 0이여야 함 \n",
    "    return True "
   ]
  },
  {
   "cell_type": "code",
   "execution_count": 15,
   "metadata": {},
   "outputs": [
    {
     "data": {
      "text/plain": [
       "True"
      ]
     },
     "execution_count": 15,
     "metadata": {},
     "output_type": "execute_result"
    }
   ],
   "source": [
    "proper_check(\"(())\")"
   ]
  },
  {
   "cell_type": "code",
   "execution_count": 16,
   "metadata": {},
   "outputs": [],
   "source": [
    "def solution(p):\n",
    "    answer = \"\"\n",
    "    if p == \"\":\n",
    "        return answer\n",
    "    \n",
    "    index = balanced_index(p)\n",
    "    u = p[:index+1]\n",
    "    v = p[index+1:]\n",
    "    \n",
    "    if(proper_check(u)):\n",
    "        answer = u + solution(v)\n",
    "    \n",
    "    else:\n",
    "        answer = '('\n",
    "        answer += solution(v)\n",
    "        answer += \")\"\n",
    "        u = list(u[1:-1])\n",
    "        for i in range(0, len(u)):\n",
    "            if u[i] == '(':\n",
    "                u[i] = ')'\n",
    "            else:\n",
    "                u[i] = '('\n",
    "        answer += ''.join(u)\n",
    "    return answer"
   ]
  },
  {
   "cell_type": "code",
   "execution_count": 17,
   "metadata": {},
   "outputs": [
    {
     "data": {
      "text/plain": [
       "'()(())()'"
      ]
     },
     "execution_count": 17,
     "metadata": {},
     "output_type": "execute_result"
    }
   ],
   "source": [
    "solution(\"()))((()\")"
   ]
  },
  {
   "cell_type": "code",
   "execution_count": null,
   "metadata": {},
   "outputs": [],
   "source": []
  }
 ],
 "metadata": {
  "kernelspec": {
   "display_name": "Python 3",
   "language": "python",
   "name": "python3"
  },
  "language_info": {
   "codemirror_mode": {
    "name": "ipython",
    "version": 3
   },
   "file_extension": ".py",
   "mimetype": "text/x-python",
   "name": "python",
   "nbconvert_exporter": "python",
   "pygments_lexer": "ipython3",
   "version": "3.7.6"
  }
 },
 "nbformat": 4,
 "nbformat_minor": 4
}
