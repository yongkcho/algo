{
 "cells": [
  {
   "cell_type": "code",
   "execution_count": 2,
   "metadata": {},
   "outputs": [],
   "source": [
    "def get_next_pos(pos, board):\n",
    "    next_pos = [] # 이동가능한 위치들에 대한 반환 결과\n",
    "    pos = list(pos) # 현재 위치\n",
    "    pos1_x, pos1_y, pos2_x, pos2_y = pos[0][0], pos[0][1], pos[1][0], pos[1][1]\n",
    "    \n",
    "    # (상, 하, 좌, 우)로 이동하는 경우\n",
    "    dx = [-1, 1, 0, 0]\n",
    "    dy = [0, 0, -1, 1]\n",
    "    \n",
    "    for i in range(4):\n",
    "        pos1_next_x, pos1_next_y, pos2_next_x, pos2_next_y = pos1_x + dx[i], pos1_y + dy[i], pos2_x + dx[i], pos2_y + dy[i] \n",
    "        if board[pos1_next_x][pos1_next_y] == 0 and board[pos2_next_x][pos2_next_y] == 0:\n",
    "            next_pos.append({(pos1_next_x, pos1_next_y), (pos2_next_x, pos2_next_y)})\n",
    "    \n",
    "    # 회전하는 경우에 대해 처리\n",
    "    # 현재 로봇이 가로로 놓여있는 경우 \n",
    "    if pos1_x == pos2_x:\n",
    "        for i in [-1, 1]: #위쪽/아래쪽으로 회전\n",
    "            if board[pos1_x + i][pos1_y] == 0 and board[pos2_x + i][pos2_y] == 0:\n",
    "                next_pos.append({(pos1_x, pos1_y), (pos1_x + i, pos1_y)})\n",
    "                next_pos.append({(pos2_x, pos2_y), (pos2_x + i, pos2_y)})\n",
    "    # 현재 로봇이 세로로 놓여있는 경우\n",
    "    if pos1_y == pos2_y:\n",
    "        for i in [-1, 1]:#좌/우로 회전\n",
    "            if board[pos1_x][pos1_y + i] == 0 and board[pos2_x][pos2_y + i] == 0:\n",
    "                next_pos.append({(pos1_x, pos1_y), (pos1_x, pos1_y + i)})\n",
    "                next_pos.append({(pos2_x, pos2_y), (pos2_x, pos2_y + i)})\n",
    "    \n",
    "    # 이동 위치 반환\n",
    "    return next_pos"
   ]
  },
  {
   "cell_type": "code",
   "execution_count": 3,
   "metadata": {},
   "outputs": [],
   "source": [
    "from collections import deque\n",
    "\n",
    "def solution(board):\n",
    "    # 맵의 외곽에 벽을 두게 변환\n",
    "    n = len(board)\n",
    "    new_board = [[1] * (n + 2) for _ in range(n + 2)]\n",
    "    for i in range(n):\n",
    "        for j in range(n):\n",
    "            new_board[i + 1][j + 1] = board[i][j]\n",
    "    \n",
    "    # BFS 수행\n",
    "    q = deque()\n",
    "    visited = []\n",
    "    pos = {(1, 1), (1, 2)}\n",
    "    q.append((pos, 0))\n",
    "    visited.append(pos)\n",
    "    \n",
    "    # 큐가 빌 때까지 반복\n",
    "    while q:\n",
    "        pos, cost = q.popleft()\n",
    "        # (n, n) 에 도달했다면, 최단거리이므로 반환\n",
    "        if (n, n) in pos:\n",
    "            return cost\n",
    "        # 현재 위치에서 이동할 수 있는 위치 확인\n",
    "        for next_pos in get_next_pos(pos, new_board):\n",
    "            # 방문하지 않은 위치라면 큐에 넣고 방문 처리\n",
    "            if next_pos not in visited:\n",
    "                q.append((next_pos, cost + 1))\n",
    "                visited.append(next_pos)\n",
    "    return 0"
   ]
  }
 ],
 "metadata": {
  "kernelspec": {
   "display_name": "Python 3",
   "language": "python",
   "name": "python3"
  },
  "language_info": {
   "codemirror_mode": {
    "name": "ipython",
    "version": 3
   },
   "file_extension": ".py",
   "mimetype": "text/x-python",
   "name": "python",
   "nbconvert_exporter": "python",
   "pygments_lexer": "ipython3",
   "version": "3.7.6"
  }
 },
 "nbformat": 4,
 "nbformat_minor": 4
}
