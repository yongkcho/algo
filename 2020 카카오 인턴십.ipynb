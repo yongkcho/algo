{
 "cells": [
  {
   "cell_type": "code",
   "execution_count": 66,
   "metadata": {},
   "outputs": [],
   "source": [
    "numbers = [1, 3, 4, 5, 8, 2, 1, 4, 5, 9, 5]\n",
    "hand = \"right\"\t"
   ]
  },
  {
   "cell_type": "code",
   "execution_count": 71,
   "metadata": {},
   "outputs": [],
   "source": [
    "def solution(numbers, hand):\n",
    "    left_pos = 3\n",
    "    right_pos = 3\n",
    "    answer = \"\"\n",
    "    \n",
    "    left_list = [1, 4, 7, \"*\"]\n",
    "    right_list = [3, 6, 9, '#']\n",
    "    middle_list = [2, 5, 8, 0]\n",
    "    \n",
    "    for num in numbers:\n",
    "        if num in left_list: # 왼손우선순위\n",
    "            answer += \"L\"\n",
    "            left_pos = left_list.index(num)\n",
    "        elif num in right_list: # 오른손우선순위\n",
    "            answer += \"R\"\n",
    "            right_pos = right_list.index(num)\n",
    "        else: # 가운데로 가면\n",
    "            to_compare = middle_list.index(num)\n",
    "            if abs(left_pos - to_compare) < abs(right_pos - to_compare):\n",
    "                answer += \"L\"\n",
    "                left_pos = to_compare\n",
    "            elif abs(left_pos - to_compare) > abs(right_pos - to_compare):\n",
    "                answer += \"R\"\n",
    "                right_pos = to_compare\n",
    "            else: # 같은 경우에는\n",
    "                if hand == \"left\":\n",
    "                    answer += \"L\"\n",
    "                    left_pos = to_compare\n",
    "                else: \n",
    "                    answer += \"R\"\n",
    "                    right_pos = to_compare\n",
    "    return answer"
   ]
  },
  {
   "cell_type": "code",
   "execution_count": 72,
   "metadata": {},
   "outputs": [
    {
     "data": {
      "text/plain": [
       "'LRLLLRLLLRL'"
      ]
     },
     "execution_count": 72,
     "metadata": {},
     "output_type": "execute_result"
    }
   ],
   "source": [
    "solution(numbers, hand)"
   ]
  },
  {
   "cell_type": "code",
   "execution_count": null,
   "metadata": {},
   "outputs": [],
   "source": [
    "def cal_dist(num, now_l, now_r, pos, handed):\n",
    "    X, Y = 0, 1\n",
    "    dist_l = abs(pos[now_l][X] - pos[num][X]) + abs(pos[now_l][Y] - pos[num][Y])\n",
    "    dist_r = abs(pos[now_r][X] - pos[num][X]) + abs(pos[now_r][Y] - pos[num][Y])\n",
    "    # 거리가 같으면\n",
    "    if dist_l == dist_r:\n",
    "        return 'R' if handed == 'right' else 'L'\n",
    "    return 'R' if dist_l > dist_r else 'L'\n",
    "\n",
    "def solution(numbers, hand):\n",
    "    # 왼손잡이인지 오른손잡이인지\n",
    "    HANDED = hand\n",
    "    # 번호 좌표화\n",
    "    position = {1:(0, 0), 2:(0, 1), 3:(0, 2),\n",
    "                4:(1, 0), 5:(1, 1), 6:(1, 2),\n",
    "                7:(2, 0), 8:(2, 1), 9:(2, 2),\n",
    "                '*':(3, 0), 0:(3, 1), '#':(3, 2)}\n",
    "    # 왼쪽 숫자, 오른쪽 숫자\n",
    "    left, right = set([1,4,7]), set([3,6,9])\n",
    "    # 손 위치 초기화\n",
    "    now_l, now_r = '*', '#'\n",
    "    # solution\n",
    "    result = ''\n",
    "    for num in numbers:\n",
    "        if num in left: # 왼쪽 키라인\n",
    "            result += 'L'\n",
    "            now_l = num\n",
    "        elif num in right: # 오른쪽 키라인\n",
    "            result += 'R'\n",
    "            now_r = num\n",
    "        else: # 중간 키라인\n",
    "            result += cal_dist(num, now_l, now_r, position, HANDED)\n",
    "            if result[-1] == 'L':\n",
    "                now_l = num\n",
    "            else :\n",
    "                now_r = num\n",
    "    \n",
    "    return result"
   ]
  }
 ],
 "metadata": {
  "kernelspec": {
   "display_name": "Python 3",
   "language": "python",
   "name": "python3"
  },
  "language_info": {
   "codemirror_mode": {
    "name": "ipython",
    "version": 3
   },
   "file_extension": ".py",
   "mimetype": "text/x-python",
   "name": "python",
   "nbconvert_exporter": "python",
   "pygments_lexer": "ipython3",
   "version": "3.7.3"
  }
 },
 "nbformat": 4,
 "nbformat_minor": 2
}
