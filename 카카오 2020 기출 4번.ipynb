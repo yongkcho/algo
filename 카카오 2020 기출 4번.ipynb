{
 "cells": [
  {
   "cell_type": "code",
   "execution_count": 60,
   "metadata": {},
   "outputs": [],
   "source": [
    "words = [\"frodo\", \"front\", \"frost\", \"frozen\", \"frame\", \"kakao\"]"
   ]
  },
  {
   "cell_type": "code",
   "execution_count": 61,
   "metadata": {},
   "outputs": [],
   "source": [
    "queries = [\"fro??\", \"????o\", \"fr???\", \"fro???\", \"pro?\"]"
   ]
  },
  {
   "cell_type": "code",
   "execution_count": 66,
   "metadata": {},
   "outputs": [],
   "source": [
    "def solution(words, queries):\n",
    "    answer = []\n",
    "    for query in queries:\n",
    "        count = 0\n",
    "        for word in words:\n",
    "            if len(query) == len(word):\n",
    "                if query[0] == \"?\": # 시작 문자열이 ?인 경우\n",
    "                    temp_query = query.strip(\"/?\")\n",
    "                    if temp_query in word and temp_query[-1] == word[-1]:\n",
    "                        count += 1\n",
    "                else: # 끝 문자열이 ?인 경우\n",
    "                    temp_query = query.strip(\"/?\")\n",
    "                    if temp_query in word and temp_query[0] == word[0]:\n",
    "                        count += 1\n",
    "        answer.append(count)\n",
    "    return answer"
   ]
  },
  {
   "cell_type": "code",
   "execution_count": 67,
   "metadata": {
    "scrolled": true
   },
   "outputs": [
    {
     "data": {
      "text/plain": [
       "[3, 2, 4, 1, 0]"
      ]
     },
     "execution_count": 67,
     "metadata": {},
     "output_type": "execute_result"
    }
   ],
   "source": [
    "solution(words, queries)"
   ]
  }
 ],
 "metadata": {
  "kernelspec": {
   "display_name": "Python 3",
   "language": "python",
   "name": "python3"
  },
  "language_info": {
   "codemirror_mode": {
    "name": "ipython",
    "version": 3
   },
   "file_extension": ".py",
   "mimetype": "text/x-python",
   "name": "python",
   "nbconvert_exporter": "python",
   "pygments_lexer": "ipython3",
   "version": "3.7.6"
  }
 },
 "nbformat": 4,
 "nbformat_minor": 4
}
