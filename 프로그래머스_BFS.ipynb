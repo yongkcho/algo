{
 "cells": [
  {
   "cell_type": "code",
   "execution_count": 3,
   "metadata": {},
   "outputs": [],
   "source": [
    "from collections import deque\n",
    "\n",
    "# 단어 변환이 가능한 경우(1개 이하의 알파벳만 다른 경우)\n",
    "\n",
    "def possible(begin, target):\n",
    "    length = len(begin)\n",
    "    count = 0 # 다른 알파벳의 개수\n",
    "    for i in range(length):\n",
    "        # 두 알파벳이 다를 때마다 카운트\n",
    "        if begin[i] != target[i]:\n",
    "            count += 1\n",
    "        if count == 2:\n",
    "            return False\n",
    "    return True\n",
    "\n",
    "def solution(begin, target, words):\n",
    "    visited = {begin: 0} # 특정 단어의 최소 변환 회수 기록\n",
    "    # 너비 우선 탐색(BFS)\n",
    "    q = deque([begin])\n",
    "    \n",
    "    while q:\n",
    "        now = q.popleft()\n",
    "        for word in words:\n",
    "            if word not in visited and possible(now, word):\n",
    "                visited[word] = visited[now] + 1\n",
    "                q.append(word)\n",
    "    if target in visited:\n",
    "        return visited[target]\n",
    "    return 0"
   ]
  },
  {
   "cell_type": "code",
   "execution_count": 4,
   "metadata": {},
   "outputs": [],
   "source": [
    "begin = \"hit\"\n",
    "target = \"cog\"\n",
    "words = [\"hot\", \"dot\", \"dog\", \"lot\", \"log\", \"cog\"]"
   ]
  },
  {
   "cell_type": "code",
   "execution_count": null,
   "metadata": {},
   "outputs": [],
   "source": []
  }
 ],
 "metadata": {
  "kernelspec": {
   "display_name": "Python 3",
   "language": "python",
   "name": "python3"
  },
  "language_info": {
   "codemirror_mode": {
    "name": "ipython",
    "version": 3
   },
   "file_extension": ".py",
   "mimetype": "text/x-python",
   "name": "python",
   "nbconvert_exporter": "python",
   "pygments_lexer": "ipython3",
   "version": "3.7.6"
  }
 },
 "nbformat": 4,
 "nbformat_minor": 4
}
