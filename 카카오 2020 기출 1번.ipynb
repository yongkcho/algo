{
 "cells": [
  {
   "cell_type": "code",
   "execution_count": 216,
   "metadata": {},
   "outputs": [],
   "source": [
    "s = \"aabbaccc\""
   ]
  },
  {
   "cell_type": "code",
   "execution_count": 229,
   "metadata": {},
   "outputs": [],
   "source": [
    "def solution(s):\n",
    "    answer = len(s)\n",
    "    \n",
    "    for i in range(1, int(len(s)/2)+1): # 1 ~ len(s)-1의 window만큼 반복, 홀수 케이스 위해 +1 \n",
    "    # i는 윈도우의 크기를 의미\n",
    "        tempStr = \"\" # 변경한 문자열을 입력하기 위한 빈문자열 생성\n",
    "        temp = [] # 변경한 문자열을 저장하기 위한 리스트 생성\n",
    "        \n",
    "        for j in range(0, int(len(s)/i)+1): # window이동, 홀수 케이스 위해 +1 \n",
    "            if s[j*i:(j+1)*i] == s[(j+1)*i:(j+2)*i]:\n",
    "                temp.append(s[j*i:(j+1)*i]) # 같은 값은 temp 리스트에 저장\n",
    "            else: # 다른 값을 만나면\n",
    "                if(temp.count(s[j*i:(j+1)*i]) != 0): # 단 한번만 나타난게 아닐 경우에는\n",
    "                    tempStr += str(temp.count(s[j*i:(j+1)*i]) + 1) # 일단 나타난 수를 세서 숫자로 표현\n",
    "                    tempStr += s[j*i:(j+1)*i] #다음에 문자로 표현\n",
    "                    temp = [] # 리스트 초기화 (뒤에 같은 문자에 추가 되는걸 방지)\n",
    "                else:\n",
    "                    tempStr += s[j*i:(j+1)*i] # 아니면 문자만 \n",
    "                \n",
    "        if len(tempStr) < answer:\n",
    "            answer =  len(tempStr)\n",
    "            \n",
    "    return answer"
   ]
  },
  {
   "cell_type": "code",
   "execution_count": 230,
   "metadata": {},
   "outputs": [
    {
     "data": {
      "text/plain": [
       "7"
      ]
     },
     "execution_count": 230,
     "metadata": {},
     "output_type": "execute_result"
    }
   ],
   "source": [
    "solution(s)"
   ]
  },
  {
   "cell_type": "code",
   "execution_count": 205,
   "metadata": {},
   "outputs": [],
   "source": [
    "n_gram = [] # 변경한 문자열의 길이를 저장하기 위한 리스트 "
   ]
  },
  {
   "cell_type": "code",
   "execution_count": 206,
   "metadata": {},
   "outputs": [],
   "source": [
    "for i in range(1, int(len(s)/2)+1): # 1 ~ len(s)-1의 window만큼 반복, 홀수 케이스 위해 +1 \n",
    "    # i는 윈도우의 크기를 의미\n",
    "    tempStr = \"\" # 변경한 문자열을 입력하기 위한 빈문자열 생성\n",
    "    temp = [] # 변경한 문자열을 저장하기 위한 리스트 생성\n",
    "    \n",
    "    for j in range(0, int(len(s)/i)+1): # window이동, 홀수 케이스 위해 +1 \n",
    "        if s[j*i:(j+1)*i] == s[(j+1)*i:(j+2)*i]:\n",
    "            temp.append(s[j*i:(j+1)*i]) # 같은 값은 temp 리스트에 저장\n",
    "        else: # 다른 값을 만나면\n",
    "            if(temp.count(s[j*i:(j+1)*i]) != 0): # 단 한번만 나타난게 아닐 경우에는\n",
    "                tempStr += str(temp.count(s[j*i:(j+1)*i]) + 1) # 일단 나타난 수를 세서 숫자로 표현\n",
    "                tempStr += s[j*i:(j+1)*i] #다음에 문자로 표현\n",
    "                temp = [] # 리스트 초기화 (뒤에 같은 문자에 추가 되는걸 방지)\n",
    "            else:\n",
    "                tempStr += s[j*i:(j+1)*i] # 아니면 문자만 \n",
    "\n",
    "    n_gram.append(len(tempStr))"
   ]
  },
  {
   "cell_type": "code",
   "execution_count": 207,
   "metadata": {},
   "outputs": [
    {
     "data": {
      "text/plain": [
       "[7, 8, 8, 8]"
      ]
     },
     "execution_count": 207,
     "metadata": {},
     "output_type": "execute_result"
    }
   ],
   "source": [
    "n_gram"
   ]
  },
  {
   "cell_type": "code",
   "execution_count": 208,
   "metadata": {},
   "outputs": [
    {
     "data": {
      "text/plain": [
       "7"
      ]
     },
     "execution_count": 208,
     "metadata": {},
     "output_type": "execute_result"
    }
   ],
   "source": [
    "min(n_gram)"
   ]
  },
  {
   "cell_type": "code",
   "execution_count": 153,
   "metadata": {},
   "outputs": [],
   "source": [
    "i = 2\n",
    "tempStr = \"\" # 변경한 문자열을 입력하기 위한 빈문자열 생성\n",
    "temp = [] # 변경한 문자열을 저장하기 위한 리스트 생성"
   ]
  },
  {
   "cell_type": "code",
   "execution_count": 149,
   "metadata": {},
   "outputs": [
    {
     "name": "stdout",
     "output_type": "stream",
     "text": [
      "2a2ba3c\n"
     ]
    }
   ],
   "source": [
    "    tempStr = \"\" # 변경한 문자열을 입력하기 위한 빈문자열 생성\n",
    "    temp = [] # 변경한 문자열을 저장하기 위한 리스트 생성\n",
    "    \n",
    "    for j in range(0, int(len(s)/i)): # window이동\n",
    "        if s[j*i:(j+1)*i] == s[(j+1)*i:(j+2)*i]:\n",
    "            temp.append(s[j*i:(j+1)*i]) # 같은 값은 temp 리스트에 저장\n",
    "        else: # 다른 값을 만나면\n",
    "            if(temp.count(s[j*i:(j+1)*i]) != 0): # 단 한번만 나타난게 아닐 경우에는\n",
    "                tempStr += str(temp.count(s[j*i:(j+1)*i]) + 1) # 일단 나타난 수를 세서 숫자로 표현\n",
    "                tempStr += s[j*i:(j+1)*i] #다음에 문자로 표현\n",
    "                temp = [] # 리스트 초기화 (뒤에 같은 문자에 추가 되는걸 방지)\n",
    "            else:\n",
    "                tempStr += s[j*i:(j+1)*i] # 아니면 문자만 \n",
    "    print(tempStr)"
   ]
  },
  {
   "cell_type": "code",
   "execution_count": 114,
   "metadata": {},
   "outputs": [],
   "source": [
    "s = \"aabbaccc\""
   ]
  },
  {
   "cell_type": "code",
   "execution_count": 113,
   "metadata": {},
   "outputs": [
    {
     "data": {
      "text/plain": [
       "'2a'"
      ]
     },
     "execution_count": 113,
     "metadata": {},
     "output_type": "execute_result"
    }
   ],
   "source": [
    "tempStr"
   ]
  },
  {
   "cell_type": "code",
   "execution_count": 108,
   "metadata": {},
   "outputs": [
    {
     "data": {
      "text/plain": [
       "['c']"
      ]
     },
     "execution_count": 108,
     "metadata": {},
     "output_type": "execute_result"
    }
   ],
   "source": [
    "temp"
   ]
  },
  {
   "cell_type": "code",
   "execution_count": 109,
   "metadata": {},
   "outputs": [
    {
     "data": {
      "text/plain": [
       "range(0, 8, 2)"
      ]
     },
     "execution_count": 109,
     "metadata": {},
     "output_type": "execute_result"
    }
   ],
   "source": [
    "range(0, int(len(s)/i), 2)"
   ]
  },
  {
   "cell_type": "code",
   "execution_count": 145,
   "metadata": {},
   "outputs": [
    {
     "data": {
      "text/plain": [
       "[0, 1, 2, 3, 4, 5, 6, 7]"
      ]
     },
     "execution_count": 145,
     "metadata": {},
     "output_type": "execute_result"
    }
   ],
   "source": [
    "list(range(0, int(len(s)/i)))"
   ]
  },
  {
   "cell_type": "code",
   "execution_count": 184,
   "metadata": {},
   "outputs": [],
   "source": [
    "i,j = 3, 0"
   ]
  },
  {
   "cell_type": "code",
   "execution_count": 185,
   "metadata": {},
   "outputs": [
    {
     "data": {
      "text/plain": [
       "'aab'"
      ]
     },
     "execution_count": 185,
     "metadata": {},
     "output_type": "execute_result"
    }
   ],
   "source": [
    "s[j*i:(j+1)*i]"
   ]
  },
  {
   "cell_type": "code",
   "execution_count": 186,
   "metadata": {},
   "outputs": [
    {
     "data": {
      "text/plain": [
       "'bac'"
      ]
     },
     "execution_count": 186,
     "metadata": {},
     "output_type": "execute_result"
    }
   ],
   "source": [
    "s[(j+1)*i:(j+2)*i]"
   ]
  },
  {
   "cell_type": "code",
   "execution_count": 187,
   "metadata": {},
   "outputs": [],
   "source": [
    "        if s[j*i:(j+1)*i] == s[(j+1)*1:(j+2)*i]:\n",
    "            temp.append(s[j*i:(j+1)*i]) # 같은 값은 temp 리스트에 저장"
   ]
  },
  {
   "cell_type": "code",
   "execution_count": 188,
   "metadata": {},
   "outputs": [
    {
     "data": {
      "text/plain": [
       "[]"
      ]
     },
     "execution_count": 188,
     "metadata": {},
     "output_type": "execute_result"
    }
   ],
   "source": [
    "temp"
   ]
  },
  {
   "cell_type": "code",
   "execution_count": 189,
   "metadata": {},
   "outputs": [],
   "source": [
    "i, j = 3, 1"
   ]
  },
  {
   "cell_type": "code",
   "execution_count": 190,
   "metadata": {},
   "outputs": [
    {
     "data": {
      "text/plain": [
       "'bac'"
      ]
     },
     "execution_count": 190,
     "metadata": {},
     "output_type": "execute_result"
    }
   ],
   "source": [
    "s[j*i:(j+1)*i]"
   ]
  },
  {
   "cell_type": "code",
   "execution_count": 191,
   "metadata": {
    "scrolled": true
   },
   "outputs": [
    {
     "data": {
      "text/plain": [
       "'cc'"
      ]
     },
     "execution_count": 191,
     "metadata": {},
     "output_type": "execute_result"
    }
   ],
   "source": [
    "s[(j+1)*i:(j+2)*i]"
   ]
  },
  {
   "cell_type": "code",
   "execution_count": 135,
   "metadata": {},
   "outputs": [
    {
     "data": {
      "text/plain": [
       "1"
      ]
     },
     "execution_count": 135,
     "metadata": {},
     "output_type": "execute_result"
    }
   ],
   "source": [
    "temp.count('a')"
   ]
  },
  {
   "cell_type": "code",
   "execution_count": 192,
   "metadata": {},
   "outputs": [],
   "source": [
    "if s[j*i:(j+1)*i] == s[(j+1)*1:(j+2)*i]:\n",
    "            temp.append(s[j*i:(j+1)*i]) # 같은 값은 temp 리스트에 저장\n",
    "else: # 다른 값을 만나면\n",
    "            if(temp.count(s[j*i:(j+1)*i]) != 0): # 단 한번만 나타난게 아닐 경우에는\n",
    "                tempStr += str(temp.count(s[j*i:(j+1)*i]) + 1) # 일단 나타난 수를 세서 숫자로 표현\n",
    "                tempStr += s[j*i:(j+1)*i] #다음에 문자로 표현\n",
    "                temp = [] # 리스트 초기화 (뒤에 같은 문자에 추가 되는걸 방지)"
   ]
  },
  {
   "cell_type": "code",
   "execution_count": 193,
   "metadata": {},
   "outputs": [
    {
     "data": {
      "text/plain": [
       "'aabbaccc'"
      ]
     },
     "execution_count": 193,
     "metadata": {},
     "output_type": "execute_result"
    }
   ],
   "source": [
    "tempStr"
   ]
  },
  {
   "cell_type": "code",
   "execution_count": 141,
   "metadata": {},
   "outputs": [
    {
     "data": {
      "text/plain": [
       "[]"
      ]
     },
     "execution_count": 141,
     "metadata": {},
     "output_type": "execute_result"
    }
   ],
   "source": [
    "temp"
   ]
  },
  {
   "cell_type": "code",
   "execution_count": 142,
   "metadata": {},
   "outputs": [],
   "source": [
    "i, j = 1, 2"
   ]
  },
  {
   "cell_type": "code",
   "execution_count": 143,
   "metadata": {},
   "outputs": [
    {
     "data": {
      "text/plain": [
       "'b'"
      ]
     },
     "execution_count": 143,
     "metadata": {},
     "output_type": "execute_result"
    }
   ],
   "source": [
    "s[j*i:(j+1)*i]"
   ]
  },
  {
   "cell_type": "code",
   "execution_count": 144,
   "metadata": {},
   "outputs": [
    {
     "data": {
      "text/plain": [
       "'b'"
      ]
     },
     "execution_count": 144,
     "metadata": {},
     "output_type": "execute_result"
    }
   ],
   "source": [
    "s[(j+1)*1:(j+2)*i]"
   ]
  },
  {
   "cell_type": "code",
   "execution_count": null,
   "metadata": {},
   "outputs": [],
   "source": []
  }
 ],
 "metadata": {
  "kernelspec": {
   "display_name": "Python 3",
   "language": "python",
   "name": "python3"
  },
  "language_info": {
   "codemirror_mode": {
    "name": "ipython",
    "version": 3
   },
   "file_extension": ".py",
   "mimetype": "text/x-python",
   "name": "python",
   "nbconvert_exporter": "python",
   "pygments_lexer": "ipython3",
   "version": "3.7.6"
  }
 },
 "nbformat": 4,
 "nbformat_minor": 4
}
