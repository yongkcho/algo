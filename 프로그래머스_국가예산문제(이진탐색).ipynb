{
 "cells": [
  {
   "cell_type": "code",
   "execution_count": 2,
   "metadata": {},
   "outputs": [],
   "source": [
    "#https://programmers.co.kr/learn/courses/30/lessons/43237\n",
    "def solution(budgets, M):\n",
    "    answer = 0\n",
    "    # 상한액은 0부터 max(budget)까지의 합 \n",
    "    start = 0\n",
    "    end = max(budgets)\n",
    "    \n",
    "    # 이진 탐색 수행 \n",
    "    while start <= end:\n",
    "        mid = (end + start) // 2\n",
    "        # 모든 지방에 배정될 총 금액 계산\n",
    "        money = 0\n",
    "        for budget in budgets:\n",
    "            money += min(mid, budget)\n",
    "        # 현재액이 배정이 가능한 경우\n",
    "        if money <= M:\n",
    "            answer = mid # 현재 액수 저장\n",
    "            start = mid + 1 # 상한 액수 확인\n",
    "        else:\n",
    "            end = mid - 1 # 상한 액수 낮추기\n",
    "    return answer"
   ]
  }
 ],
 "metadata": {
  "kernelspec": {
   "display_name": "Python 3",
   "language": "python",
   "name": "python3"
  },
  "language_info": {
   "codemirror_mode": {
    "name": "ipython",
    "version": 3
   },
   "file_extension": ".py",
   "mimetype": "text/x-python",
   "name": "python",
   "nbconvert_exporter": "python",
   "pygments_lexer": "ipython3",
   "version": "3.7.6"
  }
 },
 "nbformat": 4,
 "nbformat_minor": 4
}
